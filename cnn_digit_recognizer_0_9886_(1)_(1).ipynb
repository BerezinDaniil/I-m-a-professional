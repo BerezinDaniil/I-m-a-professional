{
  "cells": [
    {
      "cell_type": "code",
      "execution_count": null,
      "metadata": {
        "colab": {
          "base_uri": "https://localhost:8080/",
          "height": 321
        },
        "id": "xw7OMpKBCOCL",
        "outputId": "161cd2be-68f5-4a9d-df9b-1fd0f6767cca"
      },
      "outputs": [
        {
          "output_type": "error",
          "ename": "MessageError",
          "evalue": "Error: credential propagation was unsuccessful",
          "traceback": [
            "\u001b[0;31m---------------------------------------------------------------------------\u001b[0m",
            "\u001b[0;31mMessageError\u001b[0m                              Traceback (most recent call last)",
            "\u001b[0;32m<ipython-input-1-1dbcf436c2dc>\u001b[0m in \u001b[0;36m<cell line: 3>\u001b[0;34m()\u001b[0m\n\u001b[1;32m      1\u001b[0m \u001b[0;31m# Load the Drive helper and mount\u001b[0m\u001b[0;34m\u001b[0m\u001b[0;34m\u001b[0m\u001b[0m\n\u001b[1;32m      2\u001b[0m \u001b[0;32mfrom\u001b[0m \u001b[0mgoogle\u001b[0m\u001b[0;34m.\u001b[0m\u001b[0mcolab\u001b[0m \u001b[0;32mimport\u001b[0m \u001b[0mdrive\u001b[0m\u001b[0;34m\u001b[0m\u001b[0;34m\u001b[0m\u001b[0m\n\u001b[0;32m----> 3\u001b[0;31m \u001b[0mdrive\u001b[0m\u001b[0;34m.\u001b[0m\u001b[0mmount\u001b[0m\u001b[0;34m(\u001b[0m\u001b[0;34m'/content/drive'\u001b[0m\u001b[0;34m)\u001b[0m\u001b[0;34m\u001b[0m\u001b[0;34m\u001b[0m\u001b[0m\n\u001b[0m",
            "\u001b[0;32m/usr/local/lib/python3.10/dist-packages/google/colab/drive.py\u001b[0m in \u001b[0;36mmount\u001b[0;34m(mountpoint, force_remount, timeout_ms, readonly)\u001b[0m\n\u001b[1;32m     98\u001b[0m \u001b[0;32mdef\u001b[0m \u001b[0mmount\u001b[0m\u001b[0;34m(\u001b[0m\u001b[0mmountpoint\u001b[0m\u001b[0;34m,\u001b[0m \u001b[0mforce_remount\u001b[0m\u001b[0;34m=\u001b[0m\u001b[0;32mFalse\u001b[0m\u001b[0;34m,\u001b[0m \u001b[0mtimeout_ms\u001b[0m\u001b[0;34m=\u001b[0m\u001b[0;36m120000\u001b[0m\u001b[0;34m,\u001b[0m \u001b[0mreadonly\u001b[0m\u001b[0;34m=\u001b[0m\u001b[0;32mFalse\u001b[0m\u001b[0;34m)\u001b[0m\u001b[0;34m:\u001b[0m\u001b[0;34m\u001b[0m\u001b[0;34m\u001b[0m\u001b[0m\n\u001b[1;32m     99\u001b[0m   \u001b[0;34m\"\"\"Mount your Google Drive at the specified mountpoint path.\"\"\"\u001b[0m\u001b[0;34m\u001b[0m\u001b[0;34m\u001b[0m\u001b[0m\n\u001b[0;32m--> 100\u001b[0;31m   return _mount(\n\u001b[0m\u001b[1;32m    101\u001b[0m       \u001b[0mmountpoint\u001b[0m\u001b[0;34m,\u001b[0m\u001b[0;34m\u001b[0m\u001b[0;34m\u001b[0m\u001b[0m\n\u001b[1;32m    102\u001b[0m       \u001b[0mforce_remount\u001b[0m\u001b[0;34m=\u001b[0m\u001b[0mforce_remount\u001b[0m\u001b[0;34m,\u001b[0m\u001b[0;34m\u001b[0m\u001b[0;34m\u001b[0m\u001b[0m\n",
            "\u001b[0;32m/usr/local/lib/python3.10/dist-packages/google/colab/drive.py\u001b[0m in \u001b[0;36m_mount\u001b[0;34m(mountpoint, force_remount, timeout_ms, ephemeral, readonly)\u001b[0m\n\u001b[1;32m    131\u001b[0m   )\n\u001b[1;32m    132\u001b[0m   \u001b[0;32mif\u001b[0m \u001b[0mephemeral\u001b[0m\u001b[0;34m:\u001b[0m\u001b[0;34m\u001b[0m\u001b[0;34m\u001b[0m\u001b[0m\n\u001b[0;32m--> 133\u001b[0;31m     _message.blocking_request(\n\u001b[0m\u001b[1;32m    134\u001b[0m         \u001b[0;34m'request_auth'\u001b[0m\u001b[0;34m,\u001b[0m \u001b[0mrequest\u001b[0m\u001b[0;34m=\u001b[0m\u001b[0;34m{\u001b[0m\u001b[0;34m'authType'\u001b[0m\u001b[0;34m:\u001b[0m \u001b[0;34m'dfs_ephemeral'\u001b[0m\u001b[0;34m}\u001b[0m\u001b[0;34m,\u001b[0m \u001b[0mtimeout_sec\u001b[0m\u001b[0;34m=\u001b[0m\u001b[0;32mNone\u001b[0m\u001b[0;34m\u001b[0m\u001b[0;34m\u001b[0m\u001b[0m\n\u001b[1;32m    135\u001b[0m     )\n",
            "\u001b[0;32m/usr/local/lib/python3.10/dist-packages/google/colab/_message.py\u001b[0m in \u001b[0;36mblocking_request\u001b[0;34m(request_type, request, timeout_sec, parent)\u001b[0m\n\u001b[1;32m    174\u001b[0m       \u001b[0mrequest_type\u001b[0m\u001b[0;34m,\u001b[0m \u001b[0mrequest\u001b[0m\u001b[0;34m,\u001b[0m \u001b[0mparent\u001b[0m\u001b[0;34m=\u001b[0m\u001b[0mparent\u001b[0m\u001b[0;34m,\u001b[0m \u001b[0mexpect_reply\u001b[0m\u001b[0;34m=\u001b[0m\u001b[0;32mTrue\u001b[0m\u001b[0;34m\u001b[0m\u001b[0;34m\u001b[0m\u001b[0m\n\u001b[1;32m    175\u001b[0m   )\n\u001b[0;32m--> 176\u001b[0;31m   \u001b[0;32mreturn\u001b[0m \u001b[0mread_reply_from_input\u001b[0m\u001b[0;34m(\u001b[0m\u001b[0mrequest_id\u001b[0m\u001b[0;34m,\u001b[0m \u001b[0mtimeout_sec\u001b[0m\u001b[0;34m)\u001b[0m\u001b[0;34m\u001b[0m\u001b[0;34m\u001b[0m\u001b[0m\n\u001b[0m",
            "\u001b[0;32m/usr/local/lib/python3.10/dist-packages/google/colab/_message.py\u001b[0m in \u001b[0;36mread_reply_from_input\u001b[0;34m(message_id, timeout_sec)\u001b[0m\n\u001b[1;32m    101\u001b[0m     ):\n\u001b[1;32m    102\u001b[0m       \u001b[0;32mif\u001b[0m \u001b[0;34m'error'\u001b[0m \u001b[0;32min\u001b[0m \u001b[0mreply\u001b[0m\u001b[0;34m:\u001b[0m\u001b[0;34m\u001b[0m\u001b[0;34m\u001b[0m\u001b[0m\n\u001b[0;32m--> 103\u001b[0;31m         \u001b[0;32mraise\u001b[0m \u001b[0mMessageError\u001b[0m\u001b[0;34m(\u001b[0m\u001b[0mreply\u001b[0m\u001b[0;34m[\u001b[0m\u001b[0;34m'error'\u001b[0m\u001b[0;34m]\u001b[0m\u001b[0;34m)\u001b[0m\u001b[0;34m\u001b[0m\u001b[0;34m\u001b[0m\u001b[0m\n\u001b[0m\u001b[1;32m    104\u001b[0m       \u001b[0;32mreturn\u001b[0m \u001b[0mreply\u001b[0m\u001b[0;34m.\u001b[0m\u001b[0mget\u001b[0m\u001b[0;34m(\u001b[0m\u001b[0;34m'data'\u001b[0m\u001b[0;34m,\u001b[0m \u001b[0;32mNone\u001b[0m\u001b[0;34m)\u001b[0m\u001b[0;34m\u001b[0m\u001b[0;34m\u001b[0m\u001b[0m\n\u001b[1;32m    105\u001b[0m \u001b[0;34m\u001b[0m\u001b[0m\n",
            "\u001b[0;31mMessageError\u001b[0m: Error: credential propagation was unsuccessful"
          ]
        }
      ],
      "source": [
        "# Load the Drive helper and mount\n",
        "from google.colab import drive\n",
        "drive.mount('/content/drive')"
      ],
      "id": "xw7OMpKBCOCL"
    },
    {
      "cell_type": "code",
      "execution_count": null,
      "metadata": {
        "id": "NbY2KdBzCOEc"
      },
      "outputs": [],
      "source": [
        "!unzip /content/drive/MyDrive/data.zip -d data"
      ],
      "id": "NbY2KdBzCOEc"
    },
    {
      "cell_type": "code",
      "source": [
        "!pip install wandb -qU"
      ],
      "metadata": {
        "id": "BlYRMMzfvaX7"
      },
      "id": "BlYRMMzfvaX7",
      "execution_count": null,
      "outputs": []
    },
    {
      "cell_type": "code",
      "execution_count": null,
      "metadata": {
        "id": "euHo3uW0I_oL"
      },
      "outputs": [],
      "source": [
        "import copy\n",
        "import wandb\n",
        "\n",
        "import torch\n",
        "import torch.nn as nn\n",
        "import torch\n",
        "import torch.optim as optim\n",
        "import torch.nn.functional as F\n",
        "\n",
        "from torchvision import datasets, models, transforms\n",
        "from torch.utils.data import DataLoader, Dataset\n",
        "\n",
        "#using numpy\n",
        "import numpy as np\n",
        "\n",
        "#for data load or save\n",
        "import pandas as pd\n",
        "\n",
        "#visualize some datasets\n",
        "import matplotlib.pyplot as plt"
      ],
      "id": "euHo3uW0I_oL"
    },
    {
      "cell_type": "code",
      "source": [
        "device = 'cuda' if torch.cuda.is_available() else 'cpu'"
      ],
      "metadata": {
        "id": "oNv4DrkFvL2T"
      },
      "id": "oNv4DrkFvL2T",
      "execution_count": null,
      "outputs": []
    },
    {
      "cell_type": "code",
      "source": [
        "wandb.login()"
      ],
      "metadata": {
        "id": "c_5tUSLcvYNL"
      },
      "id": "c_5tUSLcvYNL",
      "execution_count": null,
      "outputs": []
    },
    {
      "cell_type": "code",
      "execution_count": null,
      "metadata": {
        "id": "0eaa1826"
      },
      "outputs": [],
      "source": [
        "train = pd.read_csv('/content/data/data_for_achive/train/answers.csv')\n",
        "test = pd.read_csv('/content/data/data_for_achive/test/image_names.csv')"
      ],
      "id": "0eaa1826"
    },
    {
      "cell_type": "code",
      "execution_count": null,
      "metadata": {
        "colab": {
          "base_uri": "https://localhost:8080/"
        },
        "id": "f05c4b8e",
        "outputId": "8bd43b91-2e10-46cb-e28b-1b9be879ad61"
      },
      "outputs": [
        {
          "output_type": "stream",
          "name": "stdout",
          "text": [
            "(10000, 2)\n",
            "(5000, 1)\n"
          ]
        }
      ],
      "source": [
        "print(train.shape)\n",
        "print(test.shape)"
      ],
      "id": "f05c4b8e"
    },
    {
      "cell_type": "code",
      "execution_count": null,
      "metadata": {
        "colab": {
          "base_uri": "https://localhost:8080/",
          "height": 424
        },
        "id": "l4J5f4uaC0ps",
        "outputId": "792d00b8-a405-4781-b445-a026c1928f8b"
      },
      "outputs": [
        {
          "output_type": "execute_result",
          "data": {
            "text/plain": [
              "          Unnamed: 0  count\n",
              "0     train_0000.png      2\n",
              "1     train_0001.png      3\n",
              "2     train_0002.png      4\n",
              "3     train_0003.png      1\n",
              "4     train_0004.png      4\n",
              "...              ...    ...\n",
              "9995  train_9995.png      3\n",
              "9996  train_9996.png      2\n",
              "9997  train_9997.png      2\n",
              "9998  train_9998.png      3\n",
              "9999  train_9999.png      1\n",
              "\n",
              "[10000 rows x 2 columns]"
            ],
            "text/html": [
              "\n",
              "  <div id=\"df-08a391dd-12bb-465f-a5cc-13056bc921d0\" class=\"colab-df-container\">\n",
              "    <div>\n",
              "<style scoped>\n",
              "    .dataframe tbody tr th:only-of-type {\n",
              "        vertical-align: middle;\n",
              "    }\n",
              "\n",
              "    .dataframe tbody tr th {\n",
              "        vertical-align: top;\n",
              "    }\n",
              "\n",
              "    .dataframe thead th {\n",
              "        text-align: right;\n",
              "    }\n",
              "</style>\n",
              "<table border=\"1\" class=\"dataframe\">\n",
              "  <thead>\n",
              "    <tr style=\"text-align: right;\">\n",
              "      <th></th>\n",
              "      <th>Unnamed: 0</th>\n",
              "      <th>count</th>\n",
              "    </tr>\n",
              "  </thead>\n",
              "  <tbody>\n",
              "    <tr>\n",
              "      <th>0</th>\n",
              "      <td>train_0000.png</td>\n",
              "      <td>2</td>\n",
              "    </tr>\n",
              "    <tr>\n",
              "      <th>1</th>\n",
              "      <td>train_0001.png</td>\n",
              "      <td>3</td>\n",
              "    </tr>\n",
              "    <tr>\n",
              "      <th>2</th>\n",
              "      <td>train_0002.png</td>\n",
              "      <td>4</td>\n",
              "    </tr>\n",
              "    <tr>\n",
              "      <th>3</th>\n",
              "      <td>train_0003.png</td>\n",
              "      <td>1</td>\n",
              "    </tr>\n",
              "    <tr>\n",
              "      <th>4</th>\n",
              "      <td>train_0004.png</td>\n",
              "      <td>4</td>\n",
              "    </tr>\n",
              "    <tr>\n",
              "      <th>...</th>\n",
              "      <td>...</td>\n",
              "      <td>...</td>\n",
              "    </tr>\n",
              "    <tr>\n",
              "      <th>9995</th>\n",
              "      <td>train_9995.png</td>\n",
              "      <td>3</td>\n",
              "    </tr>\n",
              "    <tr>\n",
              "      <th>9996</th>\n",
              "      <td>train_9996.png</td>\n",
              "      <td>2</td>\n",
              "    </tr>\n",
              "    <tr>\n",
              "      <th>9997</th>\n",
              "      <td>train_9997.png</td>\n",
              "      <td>2</td>\n",
              "    </tr>\n",
              "    <tr>\n",
              "      <th>9998</th>\n",
              "      <td>train_9998.png</td>\n",
              "      <td>3</td>\n",
              "    </tr>\n",
              "    <tr>\n",
              "      <th>9999</th>\n",
              "      <td>train_9999.png</td>\n",
              "      <td>1</td>\n",
              "    </tr>\n",
              "  </tbody>\n",
              "</table>\n",
              "<p>10000 rows × 2 columns</p>\n",
              "</div>\n",
              "    <div class=\"colab-df-buttons\">\n",
              "\n",
              "  <div class=\"colab-df-container\">\n",
              "    <button class=\"colab-df-convert\" onclick=\"convertToInteractive('df-08a391dd-12bb-465f-a5cc-13056bc921d0')\"\n",
              "            title=\"Convert this dataframe to an interactive table.\"\n",
              "            style=\"display:none;\">\n",
              "\n",
              "  <svg xmlns=\"http://www.w3.org/2000/svg\" height=\"24px\" viewBox=\"0 -960 960 960\">\n",
              "    <path d=\"M120-120v-720h720v720H120Zm60-500h600v-160H180v160Zm220 220h160v-160H400v160Zm0 220h160v-160H400v160ZM180-400h160v-160H180v160Zm440 0h160v-160H620v160ZM180-180h160v-160H180v160Zm440 0h160v-160H620v160Z\"/>\n",
              "  </svg>\n",
              "    </button>\n",
              "\n",
              "  <style>\n",
              "    .colab-df-container {\n",
              "      display:flex;\n",
              "      gap: 12px;\n",
              "    }\n",
              "\n",
              "    .colab-df-convert {\n",
              "      background-color: #E8F0FE;\n",
              "      border: none;\n",
              "      border-radius: 50%;\n",
              "      cursor: pointer;\n",
              "      display: none;\n",
              "      fill: #1967D2;\n",
              "      height: 32px;\n",
              "      padding: 0 0 0 0;\n",
              "      width: 32px;\n",
              "    }\n",
              "\n",
              "    .colab-df-convert:hover {\n",
              "      background-color: #E2EBFA;\n",
              "      box-shadow: 0px 1px 2px rgba(60, 64, 67, 0.3), 0px 1px 3px 1px rgba(60, 64, 67, 0.15);\n",
              "      fill: #174EA6;\n",
              "    }\n",
              "\n",
              "    .colab-df-buttons div {\n",
              "      margin-bottom: 4px;\n",
              "    }\n",
              "\n",
              "    [theme=dark] .colab-df-convert {\n",
              "      background-color: #3B4455;\n",
              "      fill: #D2E3FC;\n",
              "    }\n",
              "\n",
              "    [theme=dark] .colab-df-convert:hover {\n",
              "      background-color: #434B5C;\n",
              "      box-shadow: 0px 1px 3px 1px rgba(0, 0, 0, 0.15);\n",
              "      filter: drop-shadow(0px 1px 2px rgba(0, 0, 0, 0.3));\n",
              "      fill: #FFFFFF;\n",
              "    }\n",
              "  </style>\n",
              "\n",
              "    <script>\n",
              "      const buttonEl =\n",
              "        document.querySelector('#df-08a391dd-12bb-465f-a5cc-13056bc921d0 button.colab-df-convert');\n",
              "      buttonEl.style.display =\n",
              "        google.colab.kernel.accessAllowed ? 'block' : 'none';\n",
              "\n",
              "      async function convertToInteractive(key) {\n",
              "        const element = document.querySelector('#df-08a391dd-12bb-465f-a5cc-13056bc921d0');\n",
              "        const dataTable =\n",
              "          await google.colab.kernel.invokeFunction('convertToInteractive',\n",
              "                                                    [key], {});\n",
              "        if (!dataTable) return;\n",
              "\n",
              "        const docLinkHtml = 'Like what you see? Visit the ' +\n",
              "          '<a target=\"_blank\" href=https://colab.research.google.com/notebooks/data_table.ipynb>data table notebook</a>'\n",
              "          + ' to learn more about interactive tables.';\n",
              "        element.innerHTML = '';\n",
              "        dataTable['output_type'] = 'display_data';\n",
              "        await google.colab.output.renderOutput(dataTable, element);\n",
              "        const docLink = document.createElement('div');\n",
              "        docLink.innerHTML = docLinkHtml;\n",
              "        element.appendChild(docLink);\n",
              "      }\n",
              "    </script>\n",
              "  </div>\n",
              "\n",
              "\n",
              "<div id=\"df-a2159116-4f98-4b4b-a230-5ad96dc63ee4\">\n",
              "  <button class=\"colab-df-quickchart\" onclick=\"quickchart('df-a2159116-4f98-4b4b-a230-5ad96dc63ee4')\"\n",
              "            title=\"Suggest charts\"\n",
              "            style=\"display:none;\">\n",
              "\n",
              "<svg xmlns=\"http://www.w3.org/2000/svg\" height=\"24px\"viewBox=\"0 0 24 24\"\n",
              "     width=\"24px\">\n",
              "    <g>\n",
              "        <path d=\"M19 3H5c-1.1 0-2 .9-2 2v14c0 1.1.9 2 2 2h14c1.1 0 2-.9 2-2V5c0-1.1-.9-2-2-2zM9 17H7v-7h2v7zm4 0h-2V7h2v10zm4 0h-2v-4h2v4z\"/>\n",
              "    </g>\n",
              "</svg>\n",
              "  </button>\n",
              "\n",
              "<style>\n",
              "  .colab-df-quickchart {\n",
              "      --bg-color: #E8F0FE;\n",
              "      --fill-color: #1967D2;\n",
              "      --hover-bg-color: #E2EBFA;\n",
              "      --hover-fill-color: #174EA6;\n",
              "      --disabled-fill-color: #AAA;\n",
              "      --disabled-bg-color: #DDD;\n",
              "  }\n",
              "\n",
              "  [theme=dark] .colab-df-quickchart {\n",
              "      --bg-color: #3B4455;\n",
              "      --fill-color: #D2E3FC;\n",
              "      --hover-bg-color: #434B5C;\n",
              "      --hover-fill-color: #FFFFFF;\n",
              "      --disabled-bg-color: #3B4455;\n",
              "      --disabled-fill-color: #666;\n",
              "  }\n",
              "\n",
              "  .colab-df-quickchart {\n",
              "    background-color: var(--bg-color);\n",
              "    border: none;\n",
              "    border-radius: 50%;\n",
              "    cursor: pointer;\n",
              "    display: none;\n",
              "    fill: var(--fill-color);\n",
              "    height: 32px;\n",
              "    padding: 0;\n",
              "    width: 32px;\n",
              "  }\n",
              "\n",
              "  .colab-df-quickchart:hover {\n",
              "    background-color: var(--hover-bg-color);\n",
              "    box-shadow: 0 1px 2px rgba(60, 64, 67, 0.3), 0 1px 3px 1px rgba(60, 64, 67, 0.15);\n",
              "    fill: var(--button-hover-fill-color);\n",
              "  }\n",
              "\n",
              "  .colab-df-quickchart-complete:disabled,\n",
              "  .colab-df-quickchart-complete:disabled:hover {\n",
              "    background-color: var(--disabled-bg-color);\n",
              "    fill: var(--disabled-fill-color);\n",
              "    box-shadow: none;\n",
              "  }\n",
              "\n",
              "  .colab-df-spinner {\n",
              "    border: 2px solid var(--fill-color);\n",
              "    border-color: transparent;\n",
              "    border-bottom-color: var(--fill-color);\n",
              "    animation:\n",
              "      spin 1s steps(1) infinite;\n",
              "  }\n",
              "\n",
              "  @keyframes spin {\n",
              "    0% {\n",
              "      border-color: transparent;\n",
              "      border-bottom-color: var(--fill-color);\n",
              "      border-left-color: var(--fill-color);\n",
              "    }\n",
              "    20% {\n",
              "      border-color: transparent;\n",
              "      border-left-color: var(--fill-color);\n",
              "      border-top-color: var(--fill-color);\n",
              "    }\n",
              "    30% {\n",
              "      border-color: transparent;\n",
              "      border-left-color: var(--fill-color);\n",
              "      border-top-color: var(--fill-color);\n",
              "      border-right-color: var(--fill-color);\n",
              "    }\n",
              "    40% {\n",
              "      border-color: transparent;\n",
              "      border-right-color: var(--fill-color);\n",
              "      border-top-color: var(--fill-color);\n",
              "    }\n",
              "    60% {\n",
              "      border-color: transparent;\n",
              "      border-right-color: var(--fill-color);\n",
              "    }\n",
              "    80% {\n",
              "      border-color: transparent;\n",
              "      border-right-color: var(--fill-color);\n",
              "      border-bottom-color: var(--fill-color);\n",
              "    }\n",
              "    90% {\n",
              "      border-color: transparent;\n",
              "      border-bottom-color: var(--fill-color);\n",
              "    }\n",
              "  }\n",
              "</style>\n",
              "\n",
              "  <script>\n",
              "    async function quickchart(key) {\n",
              "      const quickchartButtonEl =\n",
              "        document.querySelector('#' + key + ' button');\n",
              "      quickchartButtonEl.disabled = true;  // To prevent multiple clicks.\n",
              "      quickchartButtonEl.classList.add('colab-df-spinner');\n",
              "      try {\n",
              "        const charts = await google.colab.kernel.invokeFunction(\n",
              "            'suggestCharts', [key], {});\n",
              "      } catch (error) {\n",
              "        console.error('Error during call to suggestCharts:', error);\n",
              "      }\n",
              "      quickchartButtonEl.classList.remove('colab-df-spinner');\n",
              "      quickchartButtonEl.classList.add('colab-df-quickchart-complete');\n",
              "    }\n",
              "    (() => {\n",
              "      let quickchartButtonEl =\n",
              "        document.querySelector('#df-a2159116-4f98-4b4b-a230-5ad96dc63ee4 button');\n",
              "      quickchartButtonEl.style.display =\n",
              "        google.colab.kernel.accessAllowed ? 'block' : 'none';\n",
              "    })();\n",
              "  </script>\n",
              "</div>\n",
              "    </div>\n",
              "  </div>\n"
            ],
            "application/vnd.google.colaboratory.intrinsic+json": {
              "type": "dataframe",
              "variable_name": "train",
              "summary": "{\n  \"name\": \"train\",\n  \"rows\": 10000,\n  \"fields\": [\n    {\n      \"column\": \"Unnamed: 0\",\n      \"properties\": {\n        \"dtype\": \"string\",\n        \"num_unique_values\": 10000,\n        \"samples\": [\n          \"train_6252.png\",\n          \"train_4684.png\",\n          \"train_1731.png\"\n        ],\n        \"semantic_type\": \"\",\n        \"description\": \"\"\n      }\n    },\n    {\n      \"column\": \"count\",\n      \"properties\": {\n        \"dtype\": \"number\",\n        \"std\": 1,\n        \"min\": 1,\n        \"max\": 5,\n        \"num_unique_values\": 5,\n        \"samples\": [\n          3,\n          5,\n          4\n        ],\n        \"semantic_type\": \"\",\n        \"description\": \"\"\n      }\n    }\n  ]\n}"
            }
          },
          "metadata": {},
          "execution_count": 6
        }
      ],
      "source": [
        "train"
      ],
      "id": "l4J5f4uaC0ps"
    },
    {
      "cell_type": "code",
      "execution_count": null,
      "metadata": {
        "colab": {
          "base_uri": "https://localhost:8080/"
        },
        "id": "IKSne6iHJMAT",
        "outputId": "11099cf6-be79-4627-fb5a-d46f476cd672"
      },
      "outputs": [
        {
          "output_type": "execute_result",
          "data": {
            "text/plain": [
              "(array([1, 2, 3, 4, 5]), array([1461, 2114, 2870, 2097, 1458]))"
            ]
          },
          "metadata": {},
          "execution_count": 7
        }
      ],
      "source": [
        "np.unique(train['count'],return_counts=True)"
      ],
      "id": "IKSne6iHJMAT"
    },
    {
      "cell_type": "code",
      "execution_count": null,
      "metadata": {
        "id": "W1KkdiIIDv8U"
      },
      "outputs": [],
      "source": [
        "import os\n",
        "train_dir = '/content/data/data_for_achive/train/pictures'\n",
        "test_dir = '/content/data/data_for_achive/test/pictures'"
      ],
      "id": "W1KkdiIIDv8U"
    },
    {
      "cell_type": "code",
      "execution_count": null,
      "metadata": {
        "id": "hPGT8ay-Dt0Z"
      },
      "outputs": [],
      "source": [
        "import glob\n",
        "\n",
        "train_list = glob.glob(os.path.join(train_dir,'*.png'))\n",
        "test_list = glob.glob(os.path.join(test_dir, '*.png'))\n"
      ],
      "id": "hPGT8ay-Dt0Z"
    },
    {
      "cell_type": "code",
      "execution_count": null,
      "metadata": {
        "id": "OuUFRkuVsFgK"
      },
      "outputs": [],
      "source": [
        "test_list = [f\"{test_dir}/test_{str(i).rjust(4, '0')}.png\" for i in range(5000)]"
      ],
      "id": "OuUFRkuVsFgK"
    },
    {
      "cell_type": "code",
      "execution_count": null,
      "metadata": {
        "colab": {
          "base_uri": "https://localhost:8080/",
          "height": 352
        },
        "id": "z7C2iOqfDXP5",
        "outputId": "72c789f6-f646-4e25-db31-b94d248774f4"
      },
      "outputs": [
        {
          "output_type": "display_data",
          "data": {
            "text/plain": [
              "<Figure size 640x480 with 10 Axes>"
            ],
            "image/png": "[encoded data removed]"
          },
          "metadata": {}
        }
      ],
      "source": [
        "from PIL import Image\n",
        "random_idx = np.random.randint(1,9999,size=10)\n",
        "\n",
        "fig = plt.figure()\n",
        "i=1\n",
        "for idx in random_idx:\n",
        "    ax = fig.add_subplot(2,5,i)\n",
        "    img = Image.open(train_list[idx])\n",
        "    plt.imshow(img)\n",
        "    i+=1\n",
        "\n",
        "plt.axis('off')\n",
        "plt.show()"
      ],
      "id": "z7C2iOqfDXP5"
    },
    {
      "cell_type": "code",
      "source": [],
      "metadata": {
        "id": "yD8JGqtfDncY"
      },
      "id": "yD8JGqtfDncY",
      "execution_count": null,
      "outputs": []
    },
    {
      "cell_type": "code",
      "execution_count": null,
      "metadata": {
        "id": "3813ab46"
      },
      "outputs": [],
      "source": [
        "\n",
        "#data Augumentation\n",
        "transforms =  transforms.Compose([\n",
        "        transforms.Resize((100, 100))\n",
        "        transforms.RandomHorizontalFlip(0.2)\n",
        "        transforms.RandomRotation(degrees=30)\n",
        "        transforms.ToTensor(),\n",
        "        transforms.Normalize([0.485, 0.456, 0.406], [0.229, 0.224, 0.225])\n",
        "    ])\n"
      ],
      "id": "3813ab46"
    },
    {
      "cell_type": "markdown",
      "source": [
        "https://datagy.io/pytorch-transforms/"
      ],
      "metadata": {
        "id": "zpzkKuFBuJEz"
      },
      "id": "zpzkKuFBuJEz"
    },
    {
      "cell_type": "code",
      "execution_count": null,
      "metadata": {
        "colab": {
          "base_uri": "https://localhost:8080/",
          "height": 424
        },
        "id": "bY3r5XWoEiS4",
        "outputId": "da4bc64d-be81-4d6d-c78e-ca9c4833e6b6"
      },
      "outputs": [
        {
          "output_type": "execute_result",
          "data": {
            "text/plain": [
              "          Unnamed: 0  count\n",
              "0     train_0000.png      1\n",
              "1     train_0001.png      2\n",
              "2     train_0002.png      3\n",
              "3     train_0003.png      0\n",
              "4     train_0004.png      3\n",
              "...              ...    ...\n",
              "9995  train_9995.png      2\n",
              "9996  train_9996.png      1\n",
              "9997  train_9997.png      1\n",
              "9998  train_9998.png      2\n",
              "9999  train_9999.png      0\n",
              "\n",
              "[10000 rows x 2 columns]"
            ],
            "text/html": [
              "\n",
              "  <div id=\"df-e27f0377-73a7-440a-972f-7f09fa32f6d0\" class=\"colab-df-container\">\n",
              "    <div>\n",
              "<style scoped>\n",
              "    .dataframe tbody tr th:only-of-type {\n",
              "        vertical-align: middle;\n",
              "    }\n",
              "\n",
              "    .dataframe tbody tr th {\n",
              "        vertical-align: top;\n",
              "    }\n",
              "\n",
              "    .dataframe thead th {\n",
              "        text-align: right;\n",
              "    }\n",
              "</style>\n",
              "<table border=\"1\" class=\"dataframe\">\n",
              "  <thead>\n",
              "    <tr style=\"text-align: right;\">\n",
              "      <th></th>\n",
              "      <th>Unnamed: 0</th>\n",
              "      <th>count</th>\n",
              "    </tr>\n",
              "  </thead>\n",
              "  <tbody>\n",
              "    <tr>\n",
              "      <th>0</th>\n",
              "      <td>train_0000.png</td>\n",
              "      <td>1</td>\n",
              "    </tr>\n",
              "    <tr>\n",
              "      <th>1</th>\n",
              "      <td>train_0001.png</td>\n",
              "      <td>2</td>\n",
              "    </tr>\n",
              "    <tr>\n",
              "      <th>2</th>\n",
              "      <td>train_0002.png</td>\n",
              "      <td>3</td>\n",
              "    </tr>\n",
              "    <tr>\n",
              "      <th>3</th>\n",
              "      <td>train_0003.png</td>\n",
              "      <td>0</td>\n",
              "    </tr>\n",
              "    <tr>\n",
              "      <th>4</th>\n",
              "      <td>train_0004.png</td>\n",
              "      <td>3</td>\n",
              "    </tr>\n",
              "    <tr>\n",
              "      <th>...</th>\n",
              "      <td>...</td>\n",
              "      <td>...</td>\n",
              "    </tr>\n",
              "    <tr>\n",
              "      <th>9995</th>\n",
              "      <td>train_9995.png</td>\n",
              "      <td>2</td>\n",
              "    </tr>\n",
              "    <tr>\n",
              "      <th>9996</th>\n",
              "      <td>train_9996.png</td>\n",
              "      <td>1</td>\n",
              "    </tr>\n",
              "    <tr>\n",
              "      <th>9997</th>\n",
              "      <td>train_9997.png</td>\n",
              "      <td>1</td>\n",
              "    </tr>\n",
              "    <tr>\n",
              "      <th>9998</th>\n",
              "      <td>train_9998.png</td>\n",
              "      <td>2</td>\n",
              "    </tr>\n",
              "    <tr>\n",
              "      <th>9999</th>\n",
              "      <td>train_9999.png</td>\n",
              "      <td>0</td>\n",
              "    </tr>\n",
              "  </tbody>\n",
              "</table>\n",
              "<p>10000 rows × 2 columns</p>\n",
              "</div>\n",
              "    <div class=\"colab-df-buttons\">\n",
              "\n",
              "  <div class=\"colab-df-container\">\n",
              "    <button class=\"colab-df-convert\" onclick=\"convertToInteractive('df-e27f0377-73a7-440a-972f-7f09fa32f6d0')\"\n",
              "            title=\"Convert this dataframe to an interactive table.\"\n",
              "            style=\"display:none;\">\n",
              "\n",
              "  <svg xmlns=\"http://www.w3.org/2000/svg\" height=\"24px\" viewBox=\"0 -960 960 960\">\n",
              "    <path d=\"M120-120v-720h720v720H120Zm60-500h600v-160H180v160Zm220 220h160v-160H400v160Zm0 220h160v-160H400v160ZM180-400h160v-160H180v160Zm440 0h160v-160H620v160ZM180-180h160v-160H180v160Zm440 0h160v-160H620v160Z\"/>\n",
              "  </svg>\n",
              "    </button>\n",
              "\n",
              "  <style>\n",
              "    .colab-df-container {\n",
              "      display:flex;\n",
              "      gap: 12px;\n",
              "    }\n",
              "\n",
              "    .colab-df-convert {\n",
              "      background-color: #E8F0FE;\n",
              "      border: none;\n",
              "      border-radius: 50%;\n",
              "      cursor: pointer;\n",
              "      display: none;\n",
              "      fill: #1967D2;\n",
              "      height: 32px;\n",
              "      padding: 0 0 0 0;\n",
              "      width: 32px;\n",
              "    }\n",
              "\n",
              "    .colab-df-convert:hover {\n",
              "      background-color: #E2EBFA;\n",
              "      box-shadow: 0px 1px 2px rgba(60, 64, 67, 0.3), 0px 1px 3px 1px rgba(60, 64, 67, 0.15);\n",
              "      fill: #174EA6;\n",
              "    }\n",
              "\n",
              "    .colab-df-buttons div {\n",
              "      margin-bottom: 4px;\n",
              "    }\n",
              "\n",
              "    [theme=dark] .colab-df-convert {\n",
              "      background-color: #3B4455;\n",
              "      fill: #D2E3FC;\n",
              "    }\n",
              "\n",
              "    [theme=dark] .colab-df-convert:hover {\n",
              "      background-color: #434B5C;\n",
              "      box-shadow: 0px 1px 3px 1px rgba(0, 0, 0, 0.15);\n",
              "      filter: drop-shadow(0px 1px 2px rgba(0, 0, 0, 0.3));\n",
              "      fill: #FFFFFF;\n",
              "    }\n",
              "  </style>\n",
              "\n",
              "    <script>\n",
              "      const buttonEl =\n",
              "        document.querySelector('#df-e27f0377-73a7-440a-972f-7f09fa32f6d0 button.colab-df-convert');\n",
              "      buttonEl.style.display =\n",
              "        google.colab.kernel.accessAllowed ? 'block' : 'none';\n",
              "\n",
              "      async function convertToInteractive(key) {\n",
              "        const element = document.querySelector('#df-e27f0377-73a7-440a-972f-7f09fa32f6d0');\n",
              "        const dataTable =\n",
              "          await google.colab.kernel.invokeFunction('convertToInteractive',\n",
              "                                                    [key], {});\n",
              "        if (!dataTable) return;\n",
              "\n",
              "        const docLinkHtml = 'Like what you see? Visit the ' +\n",
              "          '<a target=\"_blank\" href=https://colab.research.google.com/notebooks/data_table.ipynb>data table notebook</a>'\n",
              "          + ' to learn more about interactive tables.';\n",
              "        element.innerHTML = '';\n",
              "        dataTable['output_type'] = 'display_data';\n",
              "        await google.colab.output.renderOutput(dataTable, element);\n",
              "        const docLink = document.createElement('div');\n",
              "        docLink.innerHTML = docLinkHtml;\n",
              "        element.appendChild(docLink);\n",
              "      }\n",
              "    </script>\n",
              "  </div>\n",
              "\n",
              "\n",
              "<div id=\"df-5f11d14e-25b2-4301-b0c8-395436bf306c\">\n",
              "  <button class=\"colab-df-quickchart\" onclick=\"quickchart('df-5f11d14e-25b2-4301-b0c8-395436bf306c')\"\n",
              "            title=\"Suggest charts\"\n",
              "            style=\"display:none;\">\n",
              "\n",
              "<svg xmlns=\"http://www.w3.org/2000/svg\" height=\"24px\"viewBox=\"0 0 24 24\"\n",
              "     width=\"24px\">\n",
              "    <g>\n",
              "        <path d=\"M19 3H5c-1.1 0-2 .9-2 2v14c0 1.1.9 2 2 2h14c1.1 0 2-.9 2-2V5c0-1.1-.9-2-2-2zM9 17H7v-7h2v7zm4 0h-2V7h2v10zm4 0h-2v-4h2v4z\"/>\n",
              "    </g>\n",
              "</svg>\n",
              "  </button>\n",
              "\n",
              "<style>\n",
              "  .colab-df-quickchart {\n",
              "      --bg-color: #E8F0FE;\n",
              "      --fill-color: #1967D2;\n",
              "      --hover-bg-color: #E2EBFA;\n",
              "      --hover-fill-color: #174EA6;\n",
              "      --disabled-fill-color: #AAA;\n",
              "      --disabled-bg-color: #DDD;\n",
              "  }\n",
              "\n",
              "  [theme=dark] .colab-df-quickchart {\n",
              "      --bg-color: #3B4455;\n",
              "      --fill-color: #D2E3FC;\n",
              "      --hover-bg-color: #434B5C;\n",
              "      --hover-fill-color: #FFFFFF;\n",
              "      --disabled-bg-color: #3B4455;\n",
              "      --disabled-fill-color: #666;\n",
              "  }\n",
              "\n",
              "  .colab-df-quickchart {\n",
              "    background-color: var(--bg-color);\n",
              "    border: none;\n",
              "    border-radius: 50%;\n",
              "    cursor: pointer;\n",
              "    display: none;\n",
              "    fill: var(--fill-color);\n",
              "    height: 32px;\n",
              "    padding: 0;\n",
              "    width: 32px;\n",
              "  }\n",
              "\n",
              "  .colab-df-quickchart:hover {\n",
              "    background-color: var(--hover-bg-color);\n",
              "    box-shadow: 0 1px 2px rgba(60, 64, 67, 0.3), 0 1px 3px 1px rgba(60, 64, 67, 0.15);\n",
              "    fill: var(--button-hover-fill-color);\n",
              "  }\n",
              "\n",
              "  .colab-df-quickchart-complete:disabled,\n",
              "  .colab-df-quickchart-complete:disabled:hover {\n",
              "    background-color: var(--disabled-bg-color);\n",
              "    fill: var(--disabled-fill-color);\n",
              "    box-shadow: none;\n",
              "  }\n",
              "\n",
              "  .colab-df-spinner {\n",
              "    border: 2px solid var(--fill-color);\n",
              "    border-color: transparent;\n",
              "    border-bottom-color: var(--fill-color);\n",
              "    animation:\n",
              "      spin 1s steps(1) infinite;\n",
              "  }\n",
              "\n",
              "  @keyframes spin {\n",
              "    0% {\n",
              "      border-color: transparent;\n",
              "      border-bottom-color: var(--fill-color);\n",
              "      border-left-color: var(--fill-color);\n",
              "    }\n",
              "    20% {\n",
              "      border-color: transparent;\n",
              "      border-left-color: var(--fill-color);\n",
              "      border-top-color: var(--fill-color);\n",
              "    }\n",
              "    30% {\n",
              "      border-color: transparent;\n",
              "      border-left-color: var(--fill-color);\n",
              "      border-top-color: var(--fill-color);\n",
              "      border-right-color: var(--fill-color);\n",
              "    }\n",
              "    40% {\n",
              "      border-color: transparent;\n",
              "      border-right-color: var(--fill-color);\n",
              "      border-top-color: var(--fill-color);\n",
              "    }\n",
              "    60% {\n",
              "      border-color: transparent;\n",
              "      border-right-color: var(--fill-color);\n",
              "    }\n",
              "    80% {\n",
              "      border-color: transparent;\n",
              "      border-right-color: var(--fill-color);\n",
              "      border-bottom-color: var(--fill-color);\n",
              "    }\n",
              "    90% {\n",
              "      border-color: transparent;\n",
              "      border-bottom-color: var(--fill-color);\n",
              "    }\n",
              "  }\n",
              "</style>\n",
              "\n",
              "  <script>\n",
              "    async function quickchart(key) {\n",
              "      const quickchartButtonEl =\n",
              "        document.querySelector('#' + key + ' button');\n",
              "      quickchartButtonEl.disabled = true;  // To prevent multiple clicks.\n",
              "      quickchartButtonEl.classList.add('colab-df-spinner');\n",
              "      try {\n",
              "        const charts = await google.colab.kernel.invokeFunction(\n",
              "            'suggestCharts', [key], {});\n",
              "      } catch (error) {\n",
              "        console.error('Error during call to suggestCharts:', error);\n",
              "      }\n",
              "      quickchartButtonEl.classList.remove('colab-df-spinner');\n",
              "      quickchartButtonEl.classList.add('colab-df-quickchart-complete');\n",
              "    }\n",
              "    (() => {\n",
              "      let quickchartButtonEl =\n",
              "        document.querySelector('#df-5f11d14e-25b2-4301-b0c8-395436bf306c button');\n",
              "      quickchartButtonEl.style.display =\n",
              "        google.colab.kernel.accessAllowed ? 'block' : 'none';\n",
              "    })();\n",
              "  </script>\n",
              "</div>\n",
              "    </div>\n",
              "  </div>\n"
            ],
            "application/vnd.google.colaboratory.intrinsic+json": {
              "type": "dataframe",
              "variable_name": "train",
              "summary": "{\n  \"name\": \"train\",\n  \"rows\": 10000,\n  \"fields\": [\n    {\n      \"column\": \"Unnamed: 0\",\n      \"properties\": {\n        \"dtype\": \"string\",\n        \"num_unique_values\": 10000,\n        \"samples\": [\n          \"train_6252.png\",\n          \"train_4684.png\",\n          \"train_1731.png\"\n        ],\n        \"semantic_type\": \"\",\n        \"description\": \"\"\n      }\n    },\n    {\n      \"column\": \"count\",\n      \"properties\": {\n        \"dtype\": \"number\",\n        \"std\": 1,\n        \"min\": 0,\n        \"max\": 4,\n        \"num_unique_values\": 5,\n        \"samples\": [\n          2,\n          4,\n          3\n        ],\n        \"semantic_type\": \"\",\n        \"description\": \"\"\n      }\n    }\n  ]\n}"
            }
          },
          "metadata": {},
          "execution_count": 13
        }
      ],
      "source": [
        "train['count'] = train['count'] -1\n",
        "train"
      ],
      "id": "bY3r5XWoEiS4"
    },
    {
      "cell_type": "code",
      "execution_count": null,
      "metadata": {
        "id": "FHbOOVApERMp"
      },
      "outputs": [],
      "source": [
        "class dataset(torch.utils.data.Dataset):\n",
        "    def __init__(self,file_list,transform=None):\n",
        "        self.file_list = file_list\n",
        "        self.transform = transform\n",
        "\n",
        "\n",
        "    #dataset length\n",
        "    def __len__(self):\n",
        "        self.filelength = len(self.file_list)\n",
        "        return self.filelength\n",
        "\n",
        "    #load an one of images\n",
        "    def __getitem__(self,idx):\n",
        "        img_path = self.file_list[idx]\n",
        "        img = Image.open(img_path).convert('RGB')\n",
        "        img_transformed = self.transform(img)\n",
        "        if len(train[train['Unnamed: 0'] == img_path.split('/')[-1]]['count'])>0:\n",
        "          label = int(train[train['Unnamed: 0'] == img_path.split('/')[-1]]['count'])\n",
        "        else:\n",
        "          label = 0\n",
        "        return img_transformed,label"
      ],
      "id": "FHbOOVApERMp"
    },
    {
      "cell_type": "code",
      "execution_count": null,
      "metadata": {
        "id": "jWOb6sLQHva8"
      },
      "outputs": [],
      "source": [
        "from sklearn.model_selection import train_test_split\n",
        "train_list, val_list = train_test_split(train_list, test_size=0.05)"
      ],
      "id": "jWOb6sLQHva8"
    },
    {
      "cell_type": "code",
      "execution_count": null,
      "metadata": {
        "id": "KyOuelKsFD9U"
      },
      "outputs": [],
      "source": [
        "train_data = dataset(train_list, transform=transforms)\n",
        "test_data = dataset(test_list, transform=transforms)\n",
        "val_data = dataset(val_list, transform=transforms)"
      ],
      "id": "KyOuelKsFD9U"
    },
    {
      "cell_type": "code",
      "execution_count": null,
      "metadata": {
        "id": "xy3Q_DusH413"
      },
      "outputs": [],
      "source": [
        "batch_size = 64"
      ],
      "id": "xy3Q_DusH413"
    },
    {
      "cell_type": "code",
      "execution_count": null,
      "metadata": {
        "id": "daf4bec7"
      },
      "outputs": [],
      "source": [
        "train_loader = torch.utils.data.DataLoader(dataset = train_data, batch_size=batch_size, shuffle=True )\n",
        "test_loader = torch.utils.data.DataLoader(dataset = test_data, batch_size=batch_size, shuffle=False)\n",
        "val_loader = torch.utils.data.DataLoader(dataset = val_data, batch_size=batch_size, shuffle=True)"
      ],
      "id": "daf4bec7"
    },
    {
      "cell_type": "code",
      "execution_count": null,
      "metadata": {
        "colab": {
          "base_uri": "https://localhost:8080/"
        },
        "id": "GKwm97jvH89a",
        "outputId": "c13cbf24-b578-4722-8eea-08733e9f3861"
      },
      "outputs": [
        {
          "output_type": "stream",
          "name": "stdout",
          "text": [
            "9500 149\n"
          ]
        }
      ],
      "source": [
        "print(len(train_data), len(train_loader))"
      ],
      "id": "GKwm97jvH89a"
    },
    {
      "cell_type": "code",
      "execution_count": null,
      "metadata": {
        "id": "8cea80fc"
      },
      "outputs": [],
      "source": [
        "class Cnn(nn.Module):\n",
        "    def __init__(self):\n",
        "        super(Cnn,self).__init__()\n",
        "\n",
        "        self.layer1 = nn.Sequential(\n",
        "            nn.Conv2d(3,16,kernel_size=3, padding=0, stride=1),\n",
        "            nn.BatchNorm2d(16),\n",
        "            nn.ReLU(),\n",
        "            nn.MaxPool2d(2)\n",
        "        )\n",
        "\n",
        "        self.layer2 = nn.Sequential(\n",
        "            nn.Conv2d(16,32, kernel_size=3, padding=0, stride=1),\n",
        "            nn.BatchNorm2d(32),\n",
        "            nn.ReLU(),\n",
        "            nn.MaxPool2d(2)\n",
        "            )\n",
        "\n",
        "        self.layer3 = nn.Sequential(\n",
        "            nn.Conv2d(32,64, kernel_size=3, padding=0, stride=1),\n",
        "            nn.BatchNorm2d(64),\n",
        "            nn.ReLU(),\n",
        "            nn.MaxPool2d(2)\n",
        "        )\n",
        "        self.fc1 = nn.Linear(6400,100)\n",
        "        self.dropout = nn.Dropout(0.5)\n",
        "        self.fc2 = nn.Linear(100,5)\n",
        "        self.relu = nn.ReLU()\n",
        "\n",
        "\n",
        "    def forward(self,x):\n",
        "        out = self.layer1(x)\n",
        "        out = self.layer2(out)\n",
        "        out = self.layer3(out)\n",
        "        out = out.view(out.size(0),-1)\n",
        "        out = self.relu(self.fc1(out))\n",
        "        out = self.fc2(out)\n",
        "        return out\n",
        "\n"
      ],
      "id": "8cea80fc"
    },
    {
      "cell_type": "code",
      "execution_count": null,
      "metadata": {
        "id": "VHKbk1CaIlH5"
      },
      "outputs": [],
      "source": [
        "lr = 0.001 # learning_rate\n",
        "epochs = 100 # How much to train a model"
      ],
      "id": "VHKbk1CaIlH5"
    },
    {
      "cell_type": "code",
      "execution_count": null,
      "metadata": {
        "id": "tn6pbACkIsl8"
      },
      "outputs": [],
      "source": [
        "device = 'cuda' if torch.cuda.is_available() else 'cpu'"
      ],
      "id": "tn6pbACkIsl8"
    },
    {
      "cell_type": "code",
      "execution_count": null,
      "metadata": {
        "colab": {
          "base_uri": "https://localhost:8080/"
        },
        "id": "hmv9dftGIj-y",
        "outputId": "7ddda180-6d00-4350-d203-f426ea7cdf76"
      },
      "outputs": [
        {
          "output_type": "execute_result",
          "data": {
            "text/plain": [
              "Cnn(\n",
              "  (layer1): Sequential(\n",
              "    (0): Conv2d(3, 16, kernel_size=(3, 3), stride=(1, 1))\n",
              "    (1): BatchNorm2d(16, eps=1e-05, momentum=0.1, affine=True, track_running_stats=True)\n",
              "    (2): ReLU()\n",
              "    (3): MaxPool2d(kernel_size=2, stride=2, padding=0, dilation=1, ceil_mode=False)\n",
              "  )\n",
              "  (layer2): Sequential(\n",
              "    (0): Conv2d(16, 32, kernel_size=(3, 3), stride=(1, 1))\n",
              "    (1): BatchNorm2d(32, eps=1e-05, momentum=0.1, affine=True, track_running_stats=True)\n",
              "    (2): ReLU()\n",
              "    (3): MaxPool2d(kernel_size=2, stride=2, padding=0, dilation=1, ceil_mode=False)\n",
              "  )\n",
              "  (layer3): Sequential(\n",
              "    (0): Conv2d(32, 64, kernel_size=(3, 3), stride=(1, 1))\n",
              "    (1): BatchNorm2d(64, eps=1e-05, momentum=0.1, affine=True, track_running_stats=True)\n",
              "    (2): ReLU()\n",
              "    (3): MaxPool2d(kernel_size=2, stride=2, padding=0, dilation=1, ceil_mode=False)\n",
              "  )\n",
              "  (fc1): Linear(in_features=6400, out_features=100, bias=True)\n",
              "  (dropout): Dropout(p=0.5, inplace=False)\n",
              "  (fc2): Linear(in_features=100, out_features=5, bias=True)\n",
              "  (relu): ReLU()\n",
              ")"
            ]
          },
          "metadata": {},
          "execution_count": 24
        }
      ],
      "source": [
        "model = Cnn().to(device)\n",
        "model.train()"
      ],
      "id": "hmv9dftGIj-y"
    },
    {
      "cell_type": "code",
      "execution_count": null,
      "metadata": {
        "colab": {
          "base_uri": "https://localhost:8080/"
        },
        "id": "AdoIDWoKKKlj",
        "outputId": "05290cc6-920f-43d9-b72d-eb741686ca57"
      },
      "outputs": [
        {
          "output_type": "stream",
          "name": "stdout",
          "text": [
            "----------------------------------------------------------------\n",
            "        Layer (type)               Output Shape         Param #\n",
            "================================================================\n",
            "            Conv2d-1           [-1, 16, 98, 98]             448\n",
            "       BatchNorm2d-2           [-1, 16, 98, 98]              32\n",
            "              ReLU-3           [-1, 16, 98, 98]               0\n",
            "         MaxPool2d-4           [-1, 16, 49, 49]               0\n",
            "            Conv2d-5           [-1, 32, 47, 47]           4,640\n",
            "       BatchNorm2d-6           [-1, 32, 47, 47]              64\n",
            "              ReLU-7           [-1, 32, 47, 47]               0\n",
            "         MaxPool2d-8           [-1, 32, 23, 23]               0\n",
            "            Conv2d-9           [-1, 64, 21, 21]          18,496\n",
            "      BatchNorm2d-10           [-1, 64, 21, 21]             128\n",
            "             ReLU-11           [-1, 64, 21, 21]               0\n",
            "        MaxPool2d-12           [-1, 64, 10, 10]               0\n",
            "           Linear-13                  [-1, 100]         640,100\n",
            "             ReLU-14                  [-1, 100]               0\n",
            "           Linear-15                    [-1, 5]             505\n",
            "================================================================\n",
            "Total params: 664,413\n",
            "Trainable params: 664,413\n",
            "Non-trainable params: 0\n",
            "----------------------------------------------------------------\n",
            "Input size (MB): 0.11\n",
            "Forward/backward pass size (MB): 6.25\n",
            "Params size (MB): 2.53\n",
            "Estimated Total Size (MB): 8.90\n",
            "----------------------------------------------------------------\n"
          ]
        }
      ],
      "source": [
        "from torchsummary import summary\n",
        "summary(model, input_size=(3, 100, 100))"
      ],
      "id": "AdoIDWoKKKlj"
    },
    {
      "cell_type": "code",
      "execution_count": null,
      "metadata": {
        "id": "DByJGPwOJ2mx"
      },
      "outputs": [],
      "source": [
        "lr = 0.01\n",
        "optimizer = optim.AdamW(params = model.parameters(),lr=lr, weight_decay=0.1)\n",
        "criterion = nn.CrossEntropyLoss()"
      ],
      "id": "DByJGPwOJ2mx"
    },
    {
      "cell_type": "code",
      "execution_count": null,
      "metadata": {
        "colab": {
          "base_uri": "https://localhost:8080/"
        },
        "id": "50BpqUXkJwTd",
        "outputId": "86171fca-56d2-481f-9996-49b2e883937e"
      },
      "outputs": [
        {
          "output_type": "stream",
          "name": "stdout",
          "text": [
            "Epoch : 1, train accuracy : 0.4305339455604553, train loss : 1.9193898439407349\n",
            "Epoch : 1, val_accuracy : 0.5141226053237915, val_loss : 1.02560555934906\n",
            "Epoch : 2, train accuracy : 0.6501526832580566, train loss : 0.76788729429245\n",
            "Epoch : 2, val_accuracy : 0.5609976053237915, val_loss : 0.8685749173164368\n",
            "Epoch : 3, train accuracy : 0.706720232963562, train loss : 0.6661568284034729\n",
            "Epoch : 3, val_accuracy : 0.743239164352417, val_loss : 0.5972468256950378\n",
            "Epoch : 4, train accuracy : 0.7485167384147644, train loss : 0.5806750655174255\n",
            "Epoch : 4, val_accuracy : 0.8454026579856873, val_loss : 0.448783814907074\n",
            "Epoch : 5, train accuracy : 0.7448318600654602, train loss : 0.594444751739502\n",
            "Epoch : 5, val_accuracy : 0.8323317170143127, val_loss : 0.44249406456947327\n",
            "Epoch : 6, train accuracy : 0.7787631750106812, train loss : 0.5225033760070801\n",
            "Epoch : 6, val_accuracy : 0.5658053159713745, val_loss : 0.8851051926612854\n",
            "Epoch : 7, train accuracy : 0.7645015120506287, train loss : 0.5482869744300842\n",
            "Epoch : 7, val_accuracy : 0.8713942170143127, val_loss : 0.3885756731033325\n",
            "Epoch : 8, train accuracy : 0.8171592354774475, train loss : 0.4490441679954529\n",
            "Epoch : 8, val_accuracy : 0.805588960647583, val_loss : 0.45089155435562134\n",
            "Epoch : 9, train accuracy : 0.7984781265258789, train loss : 0.4831235706806183\n",
            "Epoch : 9, val_accuracy : 0.6234976053237915, val_loss : 0.7374299168586731\n",
            "Epoch : 10, train accuracy : 0.7802615165710449, train loss : 0.5181728601455688\n",
            "Epoch : 10, val_accuracy : 0.8293269276618958, val_loss : 0.3991260528564453\n",
            "Epoch : 11, train accuracy : 0.8362448811531067, train loss : 0.4110839068889618\n",
            "Epoch : 11, val_accuracy : 0.8440504670143127, val_loss : 0.38520410656929016\n",
            "Epoch : 12, train accuracy : 0.8065977692604065, train loss : 0.4722158908843994\n",
            "Epoch : 12, val_accuracy : 0.7076321840286255, val_loss : 0.6097411513328552\n",
            "Epoch : 13, train accuracy : 0.8066874146461487, train loss : 0.4646827280521393\n",
            "Epoch : 13, val_accuracy : 0.8198617696762085, val_loss : 0.4816210865974426\n",
            "Epoch : 14, train accuracy : 0.7879167795181274, train loss : 0.5048170685768127\n",
            "Epoch : 14, val_accuracy : 0.7804988026618958, val_loss : 0.5300450325012207\n",
            "Epoch : 15, train accuracy : 0.8141030669212341, train loss : 0.44686028361320496\n",
            "Epoch : 15, val_accuracy : 0.8490084409713745, val_loss : 0.3670680820941925\n",
            "Epoch : 16, train accuracy : 0.8190319538116455, train loss : 0.45056501030921936\n",
            "Epoch : 16, val_accuracy : 0.8236178159713745, val_loss : 0.46770069003105164\n",
            "Epoch : 17, train accuracy : 0.825128972530365, train loss : 0.4268878400325775\n",
            "Epoch : 17, val_accuracy : 0.8756009340286255, val_loss : 0.3359628915786743\n",
            "Epoch : 18, train accuracy : 0.8406943082809448, train loss : 0.39917871356010437\n",
            "Epoch : 18, val_accuracy : 0.8649339079856873, val_loss : 0.3433653712272644\n"
          ]
        }
      ],
      "source": [
        "epochs = 40\n",
        "\n",
        "accuracy_history = []\n",
        "val_accuracy_history = []\n",
        "loss_history = []\n",
        "val_loss_history = []\n",
        "\n",
        "best_val_loss = float('inf')\n",
        "best_model = None\n",
        "\n",
        "fig, ax = plt.subplots(nrows=1, ncols=2, figsize=(20,6))\n",
        "\n",
        "wandb.init(\n",
        "    project=\"pytorch-intro\",\n",
        "    config={\n",
        "        \"epochs\": epochs,\n",
        "        \"batch_size\": batch_size,\n",
        "        \"lr\": lr\n",
        "        })\n",
        "\n",
        "# Copy your config\n",
        "config = wandb.config\n",
        "\n",
        "\n",
        "for epoch in range(config.epochs):\n",
        "    epoch_loss = 0\n",
        "    epoch_accuracy = 0\n",
        "\n",
        "    for data, label in train_loader:\n",
        "        data = data.to(device)\n",
        "        label = label.to(device)\n",
        "\n",
        "        output = model(data)\n",
        "        loss = criterion(output, label)\n",
        "\n",
        "        optimizer.zero_grad()\n",
        "        loss.backward()\n",
        "        optimizer.step()\n",
        "\n",
        "        acc = ((output.argmax(dim=1) == label).float().mean())\n",
        "        epoch_accuracy += acc/len(train_loader)\n",
        "        epoch_loss += loss/len(train_loader)\n",
        "    accuracy_history.append(epoch_accuracy.detach().cpu().numpy())\n",
        "    loss_history.append(epoch_loss.detach().cpu().numpy())\n",
        "\n",
        "    metrics = {\"train/train_loss\": epoch_loss,\n",
        "                \"train/accuracy\": epoch_accuracy}\n",
        "\n",
        "\n",
        "    with torch.no_grad():\n",
        "\n",
        "        epoch_val_accuracy=0\n",
        "        epoch_val_loss =0\n",
        "\n",
        "        for data, label in val_loader:\n",
        "            data = data.to(device)\n",
        "            label = label.to(device)\n",
        "\n",
        "            val_output = model(data)\n",
        "            val_loss = criterion(val_output,label)\n",
        "\n",
        "\n",
        "            acc = ((val_output.argmax(dim=1) == label).float().mean())\n",
        "            epoch_val_accuracy += acc/ len(val_loader)\n",
        "            epoch_val_loss += val_loss/ len(val_loader)\n",
        "        print(f'Epoch [{epoch+1}/{epochs}], train Loss: {epoch_loss:.4f}, train accuracy: {epoch_accuracy:.4f},  val Loss: {epoch_val_loss:.4f}, val accuracy: {epoch_val_accuracy:.4f}')\n",
        "        val_accuracy_history.append(epoch_val_accuracy.detach().cpu().numpy())\n",
        "        val_loss_history.append(epoch_val_loss.detach().cpu().numpy())\n",
        "\n",
        "        val_metrics = {\"val/val_loss\": epoch_val_loss,\n",
        "                       \"val/val_accuracy\": epoch_val_accuracy}\n",
        "        wandb.log({**metrics, **val_metrics})\n",
        "\n",
        "        if epoch_val_loss < best_val_loss:\n",
        "\n",
        "          best_val_loss = epoch_val_loss\n",
        "          best_model = copy.deepcopy(model)\n",
        "          torch.save(best_model.state_dict(), 'best_model.pt')\n",
        "          print('best model saved!')\n",
        "\n",
        "\n",
        "plt.plot(accuracy_history, label='accuracy')\n",
        "plt.plot(val_accuracy_history, label='val_accuracy')\n",
        "plt.xlabel('Epoch')\n",
        "plt.ylabel('Accuracy')\n",
        "plt.legend(loc='lower right')\n",
        "plt.show()\n"
      ],
      "id": "50BpqUXkJwTd"
    },
    {
      "cell_type": "code",
      "execution_count": null,
      "metadata": {
        "id": "UI9wcBtijkSi"
      },
      "outputs": [],
      "source": [],
      "id": "UI9wcBtijkSi"
    },
    {
      "cell_type": "code",
      "execution_count": null,
      "metadata": {
        "colab": {
          "base_uri": "https://localhost:8080/",
          "height": 449
        },
        "id": "862d7af5",
        "outputId": "8923ad86-7dd9-4123-a7a3-37aef8f2ef67"
      },
      "outputs": [
        {
          "output_type": "display_data",
          "data": {
            "text/plain": [
              "<Figure size 640x480 with 1 Axes>"
            ],
            "image/png": "[encoded data removed]"
          },
          "metadata": {}
        }
      ],
      "source": [
        "plt.plot(accuracy, label='accuracy')\n",
        "plt.plot(val_accuracy, label='val_accuracy')\n",
        "plt.xlabel('Epoch')\n",
        "plt.ylabel('Accuracy')\n",
        "plt.legend(loc='lower right')\n",
        "plt.show()"
      ],
      "id": "862d7af5"
    },
    {
      "cell_type": "code",
      "execution_count": null,
      "metadata": {
        "id": "a5dcSwgmnMkp"
      },
      "outputs": [],
      "source": [
        "model.eval()\n",
        "ans = []\n",
        "with torch.no_grad():\n",
        "    for data, _ in test_loader:\n",
        "        data = data.to(device)\n",
        "        preds = model(data)\n",
        "        preds_list = np.argmax(F.softmax(preds, dim=1).tolist(), axis = 1)\n",
        "        for i in preds_list:\n",
        "          ans.append(i+1)"
      ],
      "id": "a5dcSwgmnMkp"
    },
    {
      "cell_type": "code",
      "execution_count": null,
      "metadata": {
        "id": "pqeXychmnYuJ"
      },
      "outputs": [],
      "source": [
        "submission = pd.read_csv('/content/data/data_for_achive/test/sample_submission.csv')\n",
        "submission['count'] =  ans\n",
        "submission.to_csv(\"submission_93.csv\", index=False)"
      ],
      "id": "pqeXychmnYuJ"
    },
    {
      "cell_type": "code",
      "execution_count": null,
      "metadata": {
        "id": "2ec70a23"
      },
      "outputs": [],
      "source": [
        "results = pd.Series(ans, name=\"Label\")\n",
        "\n",
        "submission.to_csv(\"submission.csv\", index=False)"
      ],
      "id": "2ec70a23"
    },
    {
      "cell_type": "code",
      "execution_count": null,
      "metadata": {
        "id": "a17aadf0",
        "outputId": "539f48fe-10d3-4bd5-be93-aefcf0bdd180"
      },
      "outputs": [
        {
          "data": {
            "text/html": [
              "<a href='submission.csv' target='_blank'>submission.csv</a><br>"
            ],
            "text/plain": [
              "/kaggle/working/submission.csv"
            ]
          },
          "execution_count": 15,
          "metadata": {},
          "output_type": "execute_result"
        }
      ],
      "source": [
        "from IPython.display import FileLink\n",
        "FileLink('submission.csv')"
      ],
      "id": "a17aadf0"
    },
    {
      "cell_type": "markdown",
      "source": [
        "# Pre-train model"
      ],
      "metadata": {
        "id": "BbIzuRGDEjUm"
      },
      "id": "BbIzuRGDEjUm"
    },
    {
      "cell_type": "code",
      "source": [
        "import pickle\n",
        "import numpy as np\n",
        "from skimage import io\n",
        "import pandas as pd\n",
        "\n",
        "from tqdm import tqdm,tqdm_notebook\n",
        "from PIL import Image\n",
        "from pathlib import Path\n",
        "import math\n",
        "\n",
        "from torchvision import transforms\n",
        "import torch\n",
        "import torchvision\n",
        "from torch.optim import lr_scheduler\n"
      ],
      "metadata": {
        "id": "k7Z3iToZExCp"
      },
      "id": "k7Z3iToZExCp",
      "execution_count": null,
      "outputs": []
    },
    {
      "cell_type": "code",
      "source": [
        "model = torchvision.models.resnet18(pretrained = True)"
      ],
      "metadata": {
        "id": "A-ViUfRLElkB",
        "colab": {
          "base_uri": "https://localhost:8080/"
        },
        "outputId": "3a811138-7d88-4001-f179-2e9f5afcc65f"
      },
      "id": "A-ViUfRLElkB",
      "execution_count": null,
      "outputs": [
        {
          "output_type": "stream",
          "name": "stderr",
          "text": [
            "/usr/local/lib/python3.10/dist-packages/torchvision/models/_utils.py:208: UserWarning: The parameter 'pretrained' is deprecated since 0.13 and may be removed in the future, please use 'weights' instead.\n",
            "  warnings.warn(\n",
            "/usr/local/lib/python3.10/dist-packages/torchvision/models/_utils.py:223: UserWarning: Arguments other than a weight enum or `None` for 'weights' are deprecated since 0.13 and may be removed in the future. The current behavior is equivalent to passing `weights=ResNet18_Weights.IMAGENET1K_V1`. You can also use `weights=ResNet18_Weights.DEFAULT` to get the most up-to-date weights.\n",
            "  warnings.warn(msg)\n",
            "Downloading: \"https://download.pytorch.org/models/resnet18-f37072fd.pth\" to /root/.cache/torch/hub/checkpoints/resnet18-f37072fd.pth\n",
            "100%|██████████| 44.7M/44.7M [00:00<00:00, 106MB/s]\n"
          ]
        }
      ]
    },
    {
      "cell_type": "code",
      "source": [
        "n_classes = 5\n",
        "model.fc = nn.Linear(512, n_classes)"
      ],
      "metadata": {
        "id": "9LdPPuDyFRNy"
      },
      "id": "9LdPPuDyFRNy",
      "execution_count": null,
      "outputs": []
    },
    {
      "cell_type": "code",
      "source": [
        "model.to(device)"
      ],
      "metadata": {
        "id": "B-5Slzn_FZ9Q",
        "colab": {
          "base_uri": "https://localhost:8080/"
        },
        "outputId": "dd0b26d3-74e6-4161-911d-849f09ba4c2e"
      },
      "id": "B-5Slzn_FZ9Q",
      "execution_count": null,
      "outputs": [
        {
          "output_type": "execute_result",
          "data": {
            "text/plain": [
              "ResNet(\n",
              "  (conv1): Conv2d(3, 64, kernel_size=(7, 7), stride=(2, 2), padding=(3, 3), bias=False)\n",
              "  (bn1): BatchNorm2d(64, eps=1e-05, momentum=0.1, affine=True, track_running_stats=True)\n",
              "  (relu): ReLU(inplace=True)\n",
              "  (maxpool): MaxPool2d(kernel_size=3, stride=2, padding=1, dilation=1, ceil_mode=False)\n",
              "  (layer1): Sequential(\n",
              "    (0): BasicBlock(\n",
              "      (conv1): Conv2d(64, 64, kernel_size=(3, 3), stride=(1, 1), padding=(1, 1), bias=False)\n",
              "      (bn1): BatchNorm2d(64, eps=1e-05, momentum=0.1, affine=True, track_running_stats=True)\n",
              "      (relu): ReLU(inplace=True)\n",
              "      (conv2): Conv2d(64, 64, kernel_size=(3, 3), stride=(1, 1), padding=(1, 1), bias=False)\n",
              "      (bn2): BatchNorm2d(64, eps=1e-05, momentum=0.1, affine=True, track_running_stats=True)\n",
              "    )\n",
              "    (1): BasicBlock(\n",
              "      (conv1): Conv2d(64, 64, kernel_size=(3, 3), stride=(1, 1), padding=(1, 1), bias=False)\n",
              "      (bn1): BatchNorm2d(64, eps=1e-05, momentum=0.1, affine=True, track_running_stats=True)\n",
              "      (relu): ReLU(inplace=True)\n",
              "      (conv2): Conv2d(64, 64, kernel_size=(3, 3), stride=(1, 1), padding=(1, 1), bias=False)\n",
              "      (bn2): BatchNorm2d(64, eps=1e-05, momentum=0.1, affine=True, track_running_stats=True)\n",
              "    )\n",
              "  )\n",
              "  (layer2): Sequential(\n",
              "    (0): BasicBlock(\n",
              "      (conv1): Conv2d(64, 128, kernel_size=(3, 3), stride=(2, 2), padding=(1, 1), bias=False)\n",
              "      (bn1): BatchNorm2d(128, eps=1e-05, momentum=0.1, affine=True, track_running_stats=True)\n",
              "      (relu): ReLU(inplace=True)\n",
              "      (conv2): Conv2d(128, 128, kernel_size=(3, 3), stride=(1, 1), padding=(1, 1), bias=False)\n",
              "      (bn2): BatchNorm2d(128, eps=1e-05, momentum=0.1, affine=True, track_running_stats=True)\n",
              "      (downsample): Sequential(\n",
              "        (0): Conv2d(64, 128, kernel_size=(1, 1), stride=(2, 2), bias=False)\n",
              "        (1): BatchNorm2d(128, eps=1e-05, momentum=0.1, affine=True, track_running_stats=True)\n",
              "      )\n",
              "    )\n",
              "    (1): BasicBlock(\n",
              "      (conv1): Conv2d(128, 128, kernel_size=(3, 3), stride=(1, 1), padding=(1, 1), bias=False)\n",
              "      (bn1): BatchNorm2d(128, eps=1e-05, momentum=0.1, affine=True, track_running_stats=True)\n",
              "      (relu): ReLU(inplace=True)\n",
              "      (conv2): Conv2d(128, 128, kernel_size=(3, 3), stride=(1, 1), padding=(1, 1), bias=False)\n",
              "      (bn2): BatchNorm2d(128, eps=1e-05, momentum=0.1, affine=True, track_running_stats=True)\n",
              "    )\n",
              "  )\n",
              "  (layer3): Sequential(\n",
              "    (0): BasicBlock(\n",
              "      (conv1): Conv2d(128, 256, kernel_size=(3, 3), stride=(2, 2), padding=(1, 1), bias=False)\n",
              "      (bn1): BatchNorm2d(256, eps=1e-05, momentum=0.1, affine=True, track_running_stats=True)\n",
              "      (relu): ReLU(inplace=True)\n",
              "      (conv2): Conv2d(256, 256, kernel_size=(3, 3), stride=(1, 1), padding=(1, 1), bias=False)\n",
              "      (bn2): BatchNorm2d(256, eps=1e-05, momentum=0.1, affine=True, track_running_stats=True)\n",
              "      (downsample): Sequential(\n",
              "        (0): Conv2d(128, 256, kernel_size=(1, 1), stride=(2, 2), bias=False)\n",
              "        (1): BatchNorm2d(256, eps=1e-05, momentum=0.1, affine=True, track_running_stats=True)\n",
              "      )\n",
              "    )\n",
              "    (1): BasicBlock(\n",
              "      (conv1): Conv2d(256, 256, kernel_size=(3, 3), stride=(1, 1), padding=(1, 1), bias=False)\n",
              "      (bn1): BatchNorm2d(256, eps=1e-05, momentum=0.1, affine=True, track_running_stats=True)\n",
              "      (relu): ReLU(inplace=True)\n",
              "      (conv2): Conv2d(256, 256, kernel_size=(3, 3), stride=(1, 1), padding=(1, 1), bias=False)\n",
              "      (bn2): BatchNorm2d(256, eps=1e-05, momentum=0.1, affine=True, track_running_stats=True)\n",
              "    )\n",
              "  )\n",
              "  (layer4): Sequential(\n",
              "    (0): BasicBlock(\n",
              "      (conv1): Conv2d(256, 512, kernel_size=(3, 3), stride=(2, 2), padding=(1, 1), bias=False)\n",
              "      (bn1): BatchNorm2d(512, eps=1e-05, momentum=0.1, affine=True, track_running_stats=True)\n",
              "      (relu): ReLU(inplace=True)\n",
              "      (conv2): Conv2d(512, 512, kernel_size=(3, 3), stride=(1, 1), padding=(1, 1), bias=False)\n",
              "      (bn2): BatchNorm2d(512, eps=1e-05, momentum=0.1, affine=True, track_running_stats=True)\n",
              "      (downsample): Sequential(\n",
              "        (0): Conv2d(256, 512, kernel_size=(1, 1), stride=(2, 2), bias=False)\n",
              "        (1): BatchNorm2d(512, eps=1e-05, momentum=0.1, affine=True, track_running_stats=True)\n",
              "      )\n",
              "    )\n",
              "    (1): BasicBlock(\n",
              "      (conv1): Conv2d(512, 512, kernel_size=(3, 3), stride=(1, 1), padding=(1, 1), bias=False)\n",
              "      (bn1): BatchNorm2d(512, eps=1e-05, momentum=0.1, affine=True, track_running_stats=True)\n",
              "      (relu): ReLU(inplace=True)\n",
              "      (conv2): Conv2d(512, 512, kernel_size=(3, 3), stride=(1, 1), padding=(1, 1), bias=False)\n",
              "      (bn2): BatchNorm2d(512, eps=1e-05, momentum=0.1, affine=True, track_running_stats=True)\n",
              "    )\n",
              "  )\n",
              "  (avgpool): AdaptiveAvgPool2d(output_size=(1, 1))\n",
              "  (fc): Linear(in_features=512, out_features=5, bias=True)\n",
              ")"
            ]
          },
          "metadata": {},
          "execution_count": 25
        }
      ]
    },
    {
      "cell_type": "code",
      "source": [
        "blocks_to_freeze = 5\n",
        "for i, layer in enumerate(model.children()):\n",
        "  if i < blocks_to_freeze:\n",
        "    for param in layer.parameters():\n",
        "      param.requires_grad = False"
      ],
      "metadata": {
        "id": "sjm7m-B2Ffes"
      },
      "id": "sjm7m-B2Ffes",
      "execution_count": null,
      "outputs": []
    },
    {
      "cell_type": "code",
      "source": [
        "criterion = nn.L1Loss()\n",
        "optimmizer = torch.optim.AdamW(model.parameters(), lr = 0.001, weight_decay=0.1)\n",
        "scheduler = lr_scheduler.StepLR(optimmizer, step_size = 3, gamma = 0.5)"
      ],
      "metadata": {
        "id": "fzbsMJvZF7jG"
      },
      "id": "fzbsMJvZF7jG",
      "execution_count": null,
      "outputs": []
    },
    {
      "cell_type": "code",
      "source": [
        "lr = 0.01\n",
        "optimizer = optim.AdamW(params = model.parameters(),lr=lr, weight_decay=0.1)\n",
        "criterion = nn.CrossEntropyLoss()"
      ],
      "metadata": {
        "id": "xZrycp39sqDd"
      },
      "id": "xZrycp39sqDd",
      "execution_count": null,
      "outputs": []
    },
    {
      "cell_type": "code",
      "source": [
        "epochs = 40\n",
        "\n",
        "accuracy_history = []\n",
        "val_accuracy_history = []\n",
        "loss_history = []\n",
        "val_loss_history = []\n",
        "\n",
        "best_val_loss = float('inf')\n",
        "best_model = None\n",
        "\n",
        "fig, ax = plt.subplots(nrows=1, ncols=2, figsize=(20,6))\n",
        "\n",
        "wandb.init(\n",
        "    project=\"pytorch-intro\",\n",
        "    config={\n",
        "        \"epochs\": epochs,\n",
        "        \"batch_size\": batch_size,\n",
        "        \"lr\": lr\n",
        "        })\n",
        "\n",
        "# Copy your config\n",
        "config = wandb.config\n",
        "\n",
        "\n",
        "for epoch in range(config.epochs):\n",
        "    epoch_loss = 0\n",
        "    epoch_accuracy = 0\n",
        "\n",
        "    for data, label in train_loader:\n",
        "        data = data.to(device)\n",
        "        label = label.to(device)\n",
        "\n",
        "        output = model(data)\n",
        "        loss = criterion(output, label)\n",
        "\n",
        "        optimizer.zero_grad()\n",
        "        loss.backward()\n",
        "        optimizer.step()\n",
        "\n",
        "        acc = ((output.argmax(dim=1) == label).float().mean())\n",
        "        epoch_accuracy += acc/len(train_loader)\n",
        "        epoch_loss += loss/len(train_loader)\n",
        "    accuracy_history.append(epoch_accuracy.detach().cpu().numpy())\n",
        "    loss_history.append(epoch_loss.detach().cpu().numpy())\n",
        "\n",
        "    metrics = {\"train/train_loss\": epoch_loss,\n",
        "                \"train/accuracy\": epoch_accuracy}\n",
        "\n",
        "\n",
        "    with torch.no_grad():\n",
        "\n",
        "        epoch_val_accuracy=0\n",
        "        epoch_val_loss =0\n",
        "\n",
        "        for data, label in val_loader:\n",
        "            data = data.to(device)\n",
        "            label = label.to(device)\n",
        "\n",
        "            val_output = model(data)\n",
        "            val_loss = criterion(val_output,label)\n",
        "\n",
        "\n",
        "            acc = ((val_output.argmax(dim=1) == label).float().mean())\n",
        "            epoch_val_accuracy += acc/ len(val_loader)\n",
        "            epoch_val_loss += val_loss/ len(val_loader)\n",
        "        print(f'Epoch [{epoch+1}/{epochs}], train Loss: {epoch_loss:.4f}, train accuracy: {epoch_accuracy:.4f},  val Loss: {epoch_val_loss:.4f}, val accuracy: {epoch_val_accuracy:.4f}')\n",
        "        val_accuracy_history.append(epoch_val_accuracy.detach().cpu().numpy())\n",
        "        val_loss_history.append(epoch_val_loss.detach().cpu().numpy())\n",
        "\n",
        "        val_metrics = {\"val/val_loss\": epoch_val_loss,\n",
        "                       \"val/val_accuracy\": epoch_val_accuracy}\n",
        "        wandb.log({**metrics, **val_metrics})\n",
        "\n",
        "        if epoch_val_loss < best_val_loss:\n",
        "\n",
        "          best_val_loss = epoch_val_loss\n",
        "          best_model = copy.deepcopy(model)\n",
        "          torch.save(best_model.state_dict(), 'best_model.pt')\n",
        "          print('best model saved!')\n",
        "\n",
        "\n",
        "plt.plot(accuracy_history, label='accuracy')\n",
        "plt.plot(val_accuracy_history, label='val_accuracy')\n",
        "plt.xlabel('Epoch')\n",
        "plt.ylabel('Accuracy')\n",
        "plt.legend(loc='lower right')\n",
        "plt.show()"
      ],
      "metadata": {
        "colab": {
          "base_uri": "https://localhost:8080/",
          "height": 1000,
          "referenced_widgets": [
            "506ca3f616634c3b89bed015180f60f5",
            "df3e5a2f5a504a76b14f0e5084b9069e",
            "6b458909806b474f997aea9ae65b6cd1",
            "d92d633016934b76881421e1f8c2f0bc",
            "63fb714931ca454183608960a82254af",
            "fa7fb1831a1d4c93a0146a881c00dc12",
            "51e5f8b63fd043e9b8011958aea7284e",
            "fb3a9dd24a9b4be1b6ac6bc3beae458e"
          ]
        },
        "id": "54VzvGup6Cz1",
        "outputId": "077ab91b-8c84-4352-f2e7-3e914464eacb"
      },
      "id": "54VzvGup6Cz1",
      "execution_count": null,
      "outputs": [
        {
          "output_type": "display_data",
          "data": {
            "text/plain": [
              "<IPython.core.display.HTML object>"
            ],
            "text/html": [
              "Finishing last run (ID:nt3r86bt) before initializing another..."
            ]
          },
          "metadata": {}
        },
        {
          "output_type": "display_data",
          "data": {
            "text/plain": [
              "VBox(children=(Label(value='0.001 MB of 0.010 MB uploaded\\r'), FloatProgress(value=0.11425432573468827, max=1.…"
            ],
            "application/vnd.jupyter.widget-view+json": {
              "version_major": 2,
              "version_minor": 0,
              "model_id": "506ca3f616634c3b89bed015180f60f5"
            }
          },
          "metadata": {}
        },
        {
          "output_type": "display_data",
          "data": {
            "text/plain": [
              "<IPython.core.display.HTML object>"
            ],
            "text/html": [
              " View run <strong style=\"color:#cdcd00\">young-lake-1</strong> at: <a href='https://wandb.ai/daniil_berezin/pytorch-intro/runs/nt3r86bt' target=\"_blank\">https://wandb.ai/daniil_berezin/pytorch-intro/runs/nt3r86bt</a><br/>Synced 4 W&B file(s), 0 media file(s), 0 artifact file(s) and 0 other file(s)"
            ]
          },
          "metadata": {}
        },
        {
          "output_type": "display_data",
          "data": {
            "text/plain": [
              "<IPython.core.display.HTML object>"
            ],
            "text/html": [
              "Find logs at: <code>./wandb/run-20240324_094036-nt3r86bt/logs</code>"
            ]
          },
          "metadata": {}
        },
        {
          "output_type": "display_data",
          "data": {
            "text/plain": [
              "<IPython.core.display.HTML object>"
            ],
            "text/html": [
              "Successfully finished last run (ID:nt3r86bt). Initializing new run:<br/>"
            ]
          },
          "metadata": {}
        },
        {
          "output_type": "display_data",
          "data": {
            "text/plain": [
              "<IPython.core.display.HTML object>"
            ],
            "text/html": [
              "Tracking run with wandb version 0.16.4"
            ]
          },
          "metadata": {}
        },
        {
          "output_type": "display_data",
          "data": {
            "text/plain": [
              "<IPython.core.display.HTML object>"
            ],
            "text/html": [
              "Run data is saved locally in <code>/content/wandb/run-20240324_094200-l5x37r2l</code>"
            ]
          },
          "metadata": {}
        },
        {
          "output_type": "display_data",
          "data": {
            "text/plain": [
              "<IPython.core.display.HTML object>"
            ],
            "text/html": [
              "Syncing run <strong><a href='https://wandb.ai/daniil_berezin/pytorch-intro/runs/l5x37r2l' target=\"_blank\">fluent-pine-2</a></strong> to <a href='https://wandb.ai/daniil_berezin/pytorch-intro' target=\"_blank\">Weights & Biases</a> (<a href='https://wandb.me/run' target=\"_blank\">docs</a>)<br/>"
            ]
          },
          "metadata": {}
        },
        {
          "output_type": "display_data",
          "data": {
            "text/plain": [
              "<IPython.core.display.HTML object>"
            ],
            "text/html": [
              " View project at <a href='https://wandb.ai/daniil_berezin/pytorch-intro' target=\"_blank\">https://wandb.ai/daniil_berezin/pytorch-intro</a>"
            ]
          },
          "metadata": {}
        },
        {
          "output_type": "display_data",
          "data": {
            "text/plain": [
              "<IPython.core.display.HTML object>"
            ],
            "text/html": [
              " View run at <a href='https://wandb.ai/daniil_berezin/pytorch-intro/runs/l5x37r2l' target=\"_blank\">https://wandb.ai/daniil_berezin/pytorch-intro/runs/l5x37r2l</a>"
            ]
          },
          "metadata": {}
        },
        {
          "output_type": "stream",
          "name": "stdout",
          "text": [
            "Epoch [1/40], Train Loss: 0.4698, train accuracy: 0.8123\n",
            "Epoch [1/40], Val Loss: 0.4413, val accuracy: 0.8039\n",
            "best model saved!\n",
            "Epoch [2/40], Train Loss: 0.4196, train accuracy: 0.8342\n",
            "Epoch [2/40], Val Loss: 0.4045, val accuracy: 0.8301\n",
            "best model saved!\n",
            "Epoch [3/40], Train Loss: 0.3457, train accuracy: 0.8672\n",
            "Epoch [3/40], Val Loss: 0.3606, val accuracy: 0.8592\n",
            "best model saved!\n",
            "Epoch [4/40], Train Loss: 0.3047, train accuracy: 0.8848\n",
            "Epoch [4/40], Val Loss: 0.2335, val accuracy: 0.9118\n",
            "best model saved!\n",
            "Epoch [5/40], Train Loss: 0.2851, train accuracy: 0.8922\n",
            "Epoch [5/40], Val Loss: 0.2373, val accuracy: 0.9216\n",
            "Epoch [6/40], Train Loss: 0.2797, train accuracy: 0.8950\n",
            "Epoch [6/40], Val Loss: 0.3574, val accuracy: 0.8741\n",
            "Epoch [7/40], Train Loss: 0.2353, train accuracy: 0.9145\n",
            "Epoch [7/40], Val Loss: 0.3135, val accuracy: 0.8825\n",
            "Epoch [8/40], Train Loss: 0.2945, train accuracy: 0.8893\n",
            "Epoch [8/40], Val Loss: 0.3220, val accuracy: 0.8685\n",
            "Epoch [9/40], Train Loss: 0.2349, train accuracy: 0.9136\n",
            "Epoch [9/40], Val Loss: 0.3696, val accuracy: 0.8645\n",
            "Epoch [10/40], Train Loss: 0.2179, train accuracy: 0.9185\n",
            "Epoch [10/40], Val Loss: 0.2881, val accuracy: 0.8884\n",
            "Epoch [11/40], Train Loss: 0.2729, train accuracy: 0.8952\n",
            "Epoch [11/40], Val Loss: 0.2355, val accuracy: 0.9069\n",
            "Epoch [12/40], Train Loss: 0.2140, train accuracy: 0.9218\n",
            "Epoch [12/40], Val Loss: 0.2865, val accuracy: 0.9058\n",
            "Epoch [13/40], Train Loss: 0.2115, train accuracy: 0.9230\n",
            "Epoch [13/40], Val Loss: 0.4239, val accuracy: 0.8362\n",
            "Epoch [14/40], Train Loss: 0.2503, train accuracy: 0.9058\n",
            "Epoch [14/40], Val Loss: 0.3385, val accuracy: 0.8812\n",
            "Epoch [15/40], Train Loss: 0.2060, train accuracy: 0.9231\n",
            "Epoch [15/40], Val Loss: 0.2495, val accuracy: 0.9090\n",
            "Epoch [16/40], Train Loss: 0.2147, train accuracy: 0.9246\n",
            "Epoch [16/40], Val Loss: 0.4136, val accuracy: 0.8478\n",
            "Epoch [17/40], Train Loss: 0.2150, train accuracy: 0.9210\n",
            "Epoch [17/40], Val Loss: 0.2075, val accuracy: 0.9225\n",
            "best model saved!\n",
            "Epoch [18/40], Train Loss: 0.1824, train accuracy: 0.9320\n",
            "Epoch [18/40], Val Loss: 0.3831, val accuracy: 0.8573\n",
            "Epoch [19/40], Train Loss: 0.2083, train accuracy: 0.9186\n",
            "Epoch [19/40], Val Loss: 0.3386, val accuracy: 0.8577\n",
            "Epoch [20/40], Train Loss: 0.1836, train accuracy: 0.9333\n",
            "Epoch [20/40], Val Loss: 0.2613, val accuracy: 0.8836\n",
            "Epoch [21/40], Train Loss: 0.2016, train accuracy: 0.9278\n",
            "Epoch [21/40], Val Loss: 0.2308, val accuracy: 0.9186\n",
            "Epoch [22/40], Train Loss: 0.2002, train accuracy: 0.9300\n",
            "Epoch [22/40], Val Loss: 0.3207, val accuracy: 0.8831\n",
            "Epoch [23/40], Train Loss: 0.1996, train accuracy: 0.9289\n",
            "Epoch [23/40], Val Loss: 0.2365, val accuracy: 0.9205\n",
            "Epoch [24/40], Train Loss: 0.1991, train accuracy: 0.9277\n",
            "Epoch [24/40], Val Loss: 0.1807, val accuracy: 0.9304\n",
            "best model saved!\n",
            "Epoch [25/40], Train Loss: 0.1664, train accuracy: 0.9409\n",
            "Epoch [25/40], Val Loss: 0.2698, val accuracy: 0.9026\n",
            "Epoch [26/40], Train Loss: 0.1953, train accuracy: 0.9275\n",
            "Epoch [26/40], Val Loss: 0.2514, val accuracy: 0.9075\n",
            "Epoch [27/40], Train Loss: 0.2187, train accuracy: 0.9207\n",
            "Epoch [27/40], Val Loss: 0.2517, val accuracy: 0.9196\n",
            "Epoch [28/40], Train Loss: 0.2076, train accuracy: 0.9237\n",
            "Epoch [28/40], Val Loss: 0.3070, val accuracy: 0.8816\n",
            "Epoch [29/40], Train Loss: 0.1833, train accuracy: 0.9344\n",
            "Epoch [29/40], Val Loss: 0.3328, val accuracy: 0.8879\n",
            "Epoch [30/40], Train Loss: 0.1949, train accuracy: 0.9313\n",
            "Epoch [30/40], Val Loss: 0.3591, val accuracy: 0.8490\n",
            "Epoch [31/40], Train Loss: 0.1851, train accuracy: 0.9341\n",
            "Epoch [31/40], Val Loss: 0.2407, val accuracy: 0.9050\n",
            "Epoch [32/40], Train Loss: 0.1681, train accuracy: 0.9390\n",
            "Epoch [32/40], Val Loss: 0.2465, val accuracy: 0.9148\n",
            "Epoch [33/40], Train Loss: 0.1878, train accuracy: 0.9299\n",
            "Epoch [33/40], Val Loss: 0.2787, val accuracy: 0.9151\n",
            "Epoch [34/40], Train Loss: 0.1684, train accuracy: 0.9373\n",
            "Epoch [34/40], Val Loss: 0.2696, val accuracy: 0.9138\n",
            "Epoch [35/40], Train Loss: 0.1664, train accuracy: 0.9400\n",
            "Epoch [35/40], Val Loss: 0.2777, val accuracy: 0.9049\n",
            "Epoch [36/40], Train Loss: 0.1894, train accuracy: 0.9327\n",
            "Epoch [36/40], Val Loss: 0.3221, val accuracy: 0.8861\n",
            "Epoch [37/40], Train Loss: 0.1962, train accuracy: 0.9289\n",
            "Epoch [37/40], Val Loss: 0.2510, val accuracy: 0.9093\n",
            "Epoch [38/40], Train Loss: 0.1799, train accuracy: 0.9368\n",
            "Epoch [38/40], Val Loss: 0.2777, val accuracy: 0.8792\n",
            "Epoch [39/40], Train Loss: 0.1620, train accuracy: 0.9427\n",
            "Epoch [39/40], Val Loss: 0.3126, val accuracy: 0.8990\n",
            "Epoch [40/40], Train Loss: 0.1778, train accuracy: 0.9356\n",
            "Epoch [40/40], Val Loss: 0.1986, val accuracy: 0.9401\n"
          ]
        },
        {
          "output_type": "display_data",
          "data": {
            "text/plain": [
              "<Figure size 2000x600 with 2 Axes>"
            ],
            "image/png": "[encoded data removed]"
          },
          "metadata": {}
        }
      ]
    },
    {
      "cell_type": "code",
      "source": [
        "torch.save(best_model.state_dict(), 'best_model.pt')"
      ],
      "metadata": {
        "id": "5JmMWAscEmuF"
      },
      "id": "5JmMWAscEmuF",
      "execution_count": null,
      "outputs": []
    },
    {
      "cell_type": "code",
      "source": [],
      "metadata": {
        "id": "DMReXIFuWvAJ"
      },
      "id": "DMReXIFuWvAJ",
      "execution_count": null,
      "outputs": []
    },
    {
      "cell_type": "markdown",
      "source": [
        "## NN for detecting"
      ],
      "metadata": {
        "id": "wiyno7qkuo6D"
      },
      "id": "wiyno7qkuo6D"
    },
    {
      "cell_type": "code",
      "source": [],
      "metadata": {
        "id": "Kie7Qfpmur5l"
      },
      "id": "Kie7Qfpmur5l",
      "execution_count": null,
      "outputs": []
    }
  ],
  "metadata": {
    "accelerator": "GPU",
    "colab": {
      "gpuType": "T4",
      "provenance": []
    },
    "kaggle": {
      "accelerator": "none",
      "dataSources": [
        {
          "databundleVersionId": 861823,
          "sourceId": 3004,
          "sourceType": "competition"
        }
      ],
      "dockerImageVersionId": 30664,
      "isGpuEnabled": false,
      "isInternetEnabled": true,
      "language": "python",
      "sourceType": "notebook"
    },
    "kernelspec": {
      "display_name": "Python 3",
      "name": "python3"
    },
    "language_info": {
      "codemirror_mode": {
        "name": "ipython",
        "version": 3
      },
      "file_extension": ".py",
      "mimetype": "text/x-python",
      "name": "python",
      "nbconvert_exporter": "python",
      "pygments_lexer": "ipython3",
      "version": "3.10.13"
    },
    "papermill": {
      "default_parameters": {},
      "duration": 3891.262257,
      "end_time": "2024-03-06T22:08:35.362427",
      "environment_variables": {},
      "exception": null,
      "input_path": "__notebook__.ipynb",
      "output_path": "__notebook__.ipynb",
      "parameters": {},
      "start_time": "2024-03-06T21:03:44.100170",
      "version": "2.5.0"
    },
    "widgets": {
      "application/vnd.jupyter.widget-state+json": {
        "506ca3f616634c3b89bed015180f60f5": {
          "model_module": "@jupyter-widgets/controls",
          "model_name": "VBoxModel",
          "model_module_version": "1.5.0",
          "state": {
            "_dom_classes": [],
            "_model_module": "@jupyter-widgets/controls",
            "_model_module_version": "1.5.0",
            "_model_name": "VBoxModel",
            "_view_count": null,
            "_view_module": "@jupyter-widgets/controls",
            "_view_module_version": "1.5.0",
            "_view_name": "VBoxView",
            "box_style": "",
            "children": [
              "IPY_MODEL_df3e5a2f5a504a76b14f0e5084b9069e",
              "IPY_MODEL_6b458909806b474f997aea9ae65b6cd1"
            ],
            "layout": "IPY_MODEL_d92d633016934b76881421e1f8c2f0bc"
          }
        },
        "df3e5a2f5a504a76b14f0e5084b9069e": {
          "model_module": "@jupyter-widgets/controls",
          "model_name": "LabelModel",
          "model_module_version": "1.5.0",
          "state": {
            "_dom_classes": [],
            "_model_module": "@jupyter-widgets/controls",
            "_model_module_version": "1.5.0",
            "_model_name": "LabelModel",
            "_view_count": null,
            "_view_module": "@jupyter-widgets/controls",
            "_view_module_version": "1.5.0",
            "_view_name": "LabelView",
            "description": "",
            "description_tooltip": null,
            "layout": "IPY_MODEL_63fb714931ca454183608960a82254af",
            "placeholder": "​",
            "style": "IPY_MODEL_fa7fb1831a1d4c93a0146a881c00dc12",
            "value": "0.010 MB of 0.010 MB uploaded\r"
          }
        },
        "6b458909806b474f997aea9ae65b6cd1": {
          "model_module": "@jupyter-widgets/controls",
          "model_name": "FloatProgressModel",
          "model_module_version": "1.5.0",
          "state": {
            "_dom_classes": [],
            "_model_module": "@jupyter-widgets/controls",
            "_model_module_version": "1.5.0",
            "_model_name": "FloatProgressModel",
            "_view_count": null,
            "_view_module": "@jupyter-widgets/controls",
            "_view_module_version": "1.5.0",
            "_view_name": "ProgressView",
            "bar_style": "",
            "description": "",
            "description_tooltip": null,
            "layout": "IPY_MODEL_51e5f8b63fd043e9b8011958aea7284e",
            "max": 1,
            "min": 0,
            "orientation": "horizontal",
            "style": "IPY_MODEL_fb3a9dd24a9b4be1b6ac6bc3beae458e",
            "value": 1
          }
        },
        "d92d633016934b76881421e1f8c2f0bc": {
          "model_module": "@jupyter-widgets/base",
          "model_name": "LayoutModel",
          "model_module_version": "1.2.0",
          "state": {
            "_model_module": "@jupyter-widgets/base",
            "_model_module_version": "1.2.0",
            "_model_name": "LayoutModel",
            "_view_count": null,
            "_view_module": "@jupyter-widgets/base",
            "_view_module_version": "1.2.0",
            "_view_name": "LayoutView",
            "align_content": null,
            "align_items": null,
            "align_self": null,
            "border": null,
            "bottom": null,
            "display": null,
            "flex": null,
            "flex_flow": null,
            "grid_area": null,
            "grid_auto_columns": null,
            "grid_auto_flow": null,
            "grid_auto_rows": null,
            "grid_column": null,
            "grid_gap": null,
            "grid_row": null,
            "grid_template_areas": null,
            "grid_template_columns": null,
            "grid_template_rows": null,
            "height": null,
            "justify_content": null,
            "justify_items": null,
            "left": null,
            "margin": null,
            "max_height": null,
            "max_width": null,
            "min_height": null,
            "min_width": null,
            "object_fit": null,
            "object_position": null,
            "order": null,
            "overflow": null,
            "overflow_x": null,
            "overflow_y": null,
            "padding": null,
            "right": null,
            "top": null,
            "visibility": null,
            "width": null
          }
        },
        "63fb714931ca454183608960a82254af": {
          "model_module": "@jupyter-widgets/base",
          "model_name": "LayoutModel",
          "model_module_version": "1.2.0",
          "state": {
            "_model_module": "@jupyter-widgets/base",
            "_model_module_version": "1.2.0",
            "_model_name": "LayoutModel",
            "_view_count": null,
            "_view_module": "@jupyter-widgets/base",
            "_view_module_version": "1.2.0",
            "_view_name": "LayoutView",
            "align_content": null,
            "align_items": null,
            "align_self": null,
            "border": null,
            "bottom": null,
            "display": null,
            "flex": null,
            "flex_flow": null,
            "grid_area": null,
            "grid_auto_columns": null,
            "grid_auto_flow": null,
            "grid_auto_rows": null,
            "grid_column": null,
            "grid_gap": null,
            "grid_row": null,
            "grid_template_areas": null,
            "grid_template_columns": null,
            "grid_template_rows": null,
            "height": null,
            "justify_content": null,
            "justify_items": null,
            "left": null,
            "margin": null,
            "max_height": null,
            "max_width": null,
            "min_height": null,
            "min_width": null,
            "object_fit": null,
            "object_position": null,
            "order": null,
            "overflow": null,
            "overflow_x": null,
            "overflow_y": null,
            "padding": null,
            "right": null,
            "top": null,
            "visibility": null,
            "width": null
          }
        },
        "fa7fb1831a1d4c93a0146a881c00dc12": {
          "model_module": "@jupyter-widgets/controls",
          "model_name": "DescriptionStyleModel",
          "model_module_version": "1.5.0",
          "state": {
            "_model_module": "@jupyter-widgets/controls",
            "_model_module_version": "1.5.0",
            "_model_name": "DescriptionStyleModel",
            "_view_count": null,
            "_view_module": "@jupyter-widgets/base",
            "_view_module_version": "1.2.0",
            "_view_name": "StyleView",
            "description_width": ""
          }
        },
        "51e5f8b63fd043e9b8011958aea7284e": {
          "model_module": "@jupyter-widgets/base",
          "model_name": "LayoutModel",
          "model_module_version": "1.2.0",
          "state": {
            "_model_module": "@jupyter-widgets/base",
            "_model_module_version": "1.2.0",
            "_model_name": "LayoutModel",
            "_view_count": null,
            "_view_module": "@jupyter-widgets/base",
            "_view_module_version": "1.2.0",
            "_view_name": "LayoutView",
            "align_content": null,
            "align_items": null,
            "align_self": null,
            "border": null,
            "bottom": null,
            "display": null,
            "flex": null,
            "flex_flow": null,
            "grid_area": null,
            "grid_auto_columns": null,
            "grid_auto_flow": null,
            "grid_auto_rows": null,
            "grid_column": null,
            "grid_gap": null,
            "grid_row": null,
            "grid_template_areas": null,
            "grid_template_columns": null,
            "grid_template_rows": null,
            "height": null,
            "justify_content": null,
            "justify_items": null,
            "left": null,
            "margin": null,
            "max_height": null,
            "max_width": null,
            "min_height": null,
            "min_width": null,
            "object_fit": null,
            "object_position": null,
            "order": null,
            "overflow": null,
            "overflow_x": null,
            "overflow_y": null,
            "padding": null,
            "right": null,
            "top": null,
            "visibility": null,
            "width": null
          }
        },
        "fb3a9dd24a9b4be1b6ac6bc3beae458e": {
          "model_module": "@jupyter-widgets/controls",
          "model_name": "ProgressStyleModel",
          "model_module_version": "1.5.0",
          "state": {
            "_model_module": "@jupyter-widgets/controls",
            "_model_module_version": "1.5.0",
            "_model_name": "ProgressStyleModel",
            "_view_count": null,
            "_view_module": "@jupyter-widgets/base",
            "_view_module_version": "1.2.0",
            "_view_name": "StyleView",
            "bar_color": null,
            "description_width": ""
          }
        }
      }
    }
  },
  "nbformat": 4,
  "nbformat_minor": 5
}